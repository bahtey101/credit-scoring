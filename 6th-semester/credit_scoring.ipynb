{
  "cells": [
    {
      "cell_type": "markdown",
      "metadata": {
        "colab_type": "text",
        "id": "view-in-github"
      },
      "source": [
        "<a href=\"https://colab.research.google.com/github/bahtey101/Credit_Scoring/blob/main/credit_scoring.ipynb\" target=\"_parent\"><img src=\"https://colab.research.google.com/assets/colab-badge.svg\" alt=\"Open In Colab\"/></a>"
      ]
    },
    {
      "cell_type": "markdown",
      "metadata": {
        "id": "gQyq_8EbFNIv"
      },
      "source": [
        "# Решение задачи кредитного скоринга с помощью методов машинного обучения\n",
        "---\n",
        "**План работы**\n",
        "*   подключить необходимые библиотеки,\n",
        "*   предобработать данные для обучения и тестирования,\n",
        "*   построить модели,\n",
        "*   обучить модели на обучающей выборке,\n",
        "*   провести анализ результатов работы моделей.\n",
        "\n",
        "\n",
        "\n",
        "\n"
      ]
    },
    {
      "cell_type": "markdown",
      "metadata": {
        "id": "LwuAJ75pHuj9"
      },
      "source": [
        "## 1. Подключение библиотек\n"
      ]
    },
    {
      "cell_type": "markdown",
      "metadata": {
        "id": "-b2USbwUIO_U"
      },
      "source": [
        "Для простоты работы с данными будем использовать библиотеку **pandas**, предназначенную для хранения, обработки и анализа данных."
      ]
    },
    {
      "cell_type": "code",
      "execution_count": 4,
      "metadata": {
        "id": "rlQYfWDh-Akh"
      },
      "outputs": [],
      "source": [
        "import pandas as pd"
      ]
    },
    {
      "cell_type": "markdown",
      "metadata": {
        "id": "fKNVNqssIhF3"
      },
      "source": [
        "Для визуализации исходных и полученных данных подключим библиотеку **matplotlib**, с помощью которой можно строить различные двумерные и трехмерные графики."
      ]
    },
    {
      "cell_type": "code",
      "execution_count": 5,
      "metadata": {
        "id": "_97eBquIIk45"
      },
      "outputs": [],
      "source": [
        "import matplotlib.pyplot as plt"
      ]
    },
    {
      "cell_type": "markdown",
      "metadata": {
        "id": "Hw3Twp4DIpkq"
      },
      "source": [
        "Подключим модуль **numpy**, который позволяет производить вычисления сразу над массивами чисел."
      ]
    },
    {
      "cell_type": "code",
      "execution_count": 6,
      "metadata": {
        "id": "FYmfET7JIzpY"
      },
      "outputs": [],
      "source": [
        "import numpy as np"
      ]
    },
    {
      "cell_type": "markdown",
      "metadata": {
        "id": "U9Kt5GdLI25e"
      },
      "source": [
        "Для построения моделей логистической регрессии и ансамбля деревьев решений будем использовать библиотеку **scikit-learn**. Она предоставляет широкий спектр инструментов для разработки и применения различных алгоритмов машинного обучения, включая классификацию, регрессию, кластеризацию, уменьшение размерности, отбор признаков и многое другое. **scikit-learn** также предоставляет удобные средства для предобработки данных, оценки моделей и выбора оптимальных параметров.\n",
        "\n",
        "Выберем из неё следующее:\n",
        "\n",
        "*   классификатор дерева решений - **DecisionTreeClassifier**;\n",
        "*   метод для кросс-валидации - **KFold**;\n",
        "*   несколько функций для расчёта метрик качества классификации."
      ]
    },
    {
      "cell_type": "code",
      "execution_count": 7,
      "metadata": {
        "id": "s32cIWIxJH3X"
      },
      "outputs": [],
      "source": [
        "# Классификатор дерева решений\n",
        "from sklearn.tree import DecisionTreeClassifier\n",
        "\n",
        "# k-fold кросс-валидация\n",
        "from sklearn.model_selection import KFold\n",
        "\n",
        "# Метрики качества:\n",
        "from sklearn.metrics import roc_curve, precision_recall_curve, auc\n",
        "from sklearn.metrics import roc_auc_score\n",
        "from sklearn.metrics import confusion_matrix, f1_score, accuracy_score\n",
        "from sklearn.metrics import average_precision_score\n",
        "\n",
        "# Функции для подготовки данных\n",
        "from sklearn.preprocessing import MinMaxScaler\n",
        "from sklearn.model_selection import train_test_split\n",
        "\n",
        "# Модели логистической регрессии и ансамбля\n",
        "# деревьев решений\n",
        "from sklearn import linear_model, ensemble"
      ]
    },
    {
      "cell_type": "markdown",
      "metadata": {
        "id": "9yx2eJUNJaEi"
      },
      "source": [
        "Для построения и обучения нейронной сети будем использовать библиотеку **Tensorflow**. **Tensorflow** - открытая библиотека для машинного обучения, разработанная для решения задач построения и тренировки нейронной сети с целью автоматического нахождения и классификации образов, достигая качества человеческого восприятия."
      ]
    },
    {
      "cell_type": "code",
      "execution_count": null,
      "metadata": {
        "colab": {
          "base_uri": "https://localhost:8080/"
        },
        "id": "lb65e44RM-VZ",
        "outputId": "aaba2587-d2b4-4b0e-84f5-17144c0ffb07"
      },
      "outputs": [],
      "source": [
        "import tensorflow as tf\n",
        "print(tf.__version__)"
      ]
    },
    {
      "cell_type": "markdown",
      "metadata": {
        "id": "9NnqH305OF5C"
      },
      "source": [
        "Далее подключим библиотеку **keras**. Она нацелена на оперативную работу с сетями глубинного обучения.\n",
        "\n",
        "Также нам понадобятся:\n",
        "*   модель **Sequential**, которая представляет собой линейный стек слоёв;\n",
        "*   обычный плотно связанный слой - **Dense**;\n",
        "*   слой активации - **Activation**.\n",
        "\n"
      ]
    },
    {
      "cell_type": "code",
      "execution_count": null,
      "metadata": {
        "colab": {
          "base_uri": "https://localhost:8080/"
        },
        "id": "9dUbb1H8OFe5",
        "outputId": "c62e376c-7561-4005-da92-3b36a3112c60"
      },
      "outputs": [],
      "source": [
        "import keras\n",
        "print(keras.__version__)\n",
        "\n",
        "# Модель Sequential\n",
        "from keras.models import Sequential\n",
        "\n",
        "# Слои Dense и Activation\n",
        "from keras.layers import Dense, Activation"
      ]
    },
    {
      "cell_type": "markdown",
      "metadata": {
        "id": "-r7Kzw8kzGLV"
      },
      "source": [
        "## 2. Предобработка данных"
      ]
    },
    {
      "cell_type": "code",
      "execution_count": null,
      "metadata": {
        "id": "W9UNribX5L_S"
      },
      "outputs": [],
      "source": [
        "data = pd.read_csv('credit_scoring_data.csv', na_values='nan')"
      ]
    },
    {
      "cell_type": "markdown",
      "metadata": {
        "id": "Jm6iW_3r5rLa"
      },
      "source": [
        "Рассмотрим подробнее данные, которые будем использовать."
      ]
    },
    {
      "cell_type": "code",
      "execution_count": null,
      "metadata": {
        "colab": {
          "base_uri": "https://localhost:8080/",
          "height": 394
        },
        "id": "jnFNK7os5ric",
        "outputId": "caca23e6-9f06-49f9-f17c-422f58ee7f05"
      },
      "outputs": [],
      "source": [
        "data.describe().T"
      ]
    },
    {
      "cell_type": "markdown",
      "metadata": {
        "id": "uTdMVT1V7QLu"
      },
      "source": [
        "Следует отметить, что пропуски встречаются всего в двух столбцах: **MonthlyIncome** и **NumberOfDependents**. Пропуски в них логичнее всего заполнить 0."
      ]
    },
    {
      "cell_type": "code",
      "execution_count": 9,
      "metadata": {
        "id": "Cw89pmVv7xhm"
      },
      "outputs": [],
      "source": [
        "data.fillna(0., inplace=True)"
      ]
    },
    {
      "cell_type": "markdown",
      "metadata": {
        "id": "-yBUFdgY8Hg7"
      },
      "source": [
        "Наша задача спрогнозировать дефолт, поэтому **целевая переменная - наличие дефолта**. В нашем случае целевой признак **SeriousDlqin2yrs** - это наличие серьёзной просрочки по платежу за последние 2 года.\n",
        "\n",
        "Запишем столбец со значениями ключевой переменной в `target_values` и остальные данные запишем в `values`."
      ]
    },
    {
      "cell_type": "code",
      "execution_count": null,
      "metadata": {
        "id": "mOXoNnCI8N6B"
      },
      "outputs": [],
      "source": [
        "target_values = data.iloc[:,0].values\n",
        "values = data.iloc[:,1:].values"
      ]
    },
    {
      "cell_type": "markdown",
      "metadata": {
        "id": "_d9Czc1Y_0fx"
      },
      "source": [
        "Нормализуем данные."
      ]
    },
    {
      "cell_type": "code",
      "execution_count": 11,
      "metadata": {
        "id": "m8DBJ5cB8fF5"
      },
      "outputs": [],
      "source": [
        "values = MinMaxScaler().fit_transform(values)"
      ]
    },
    {
      "cell_type": "markdown",
      "metadata": {
        "id": "2064KpfsArts"
      },
      "source": [
        "Наконец, **разделим набор данных на обучающую и тестовую выборки**."
      ]
    },
    {
      "cell_type": "code",
      "execution_count": 12,
      "metadata": {
        "id": "USdVZugXA0w5"
      },
      "outputs": [],
      "source": [
        "training_data, test_data, training_target_data, test_target_data = train_test_split(\n",
        "    values,\n",
        "    target_values,\n",
        "    test_size=0.2,\n",
        "    random_state=0\n",
        ")"
      ]
    },
    {
      "cell_type": "markdown",
      "metadata": {
        "id": "p7TDvJ43VyvP"
      },
      "source": [
        "## 3. Построение моделей"
      ]
    },
    {
      "cell_type": "markdown",
      "metadata": {
        "id": "Zk9RTrPnUTj9"
      },
      "source": [
        "### 3. A. Логистическая регрессия\n",
        "Построение начнём со статистических моделей: логистической регрессии и ансамбля деревьев решений. Первой будет **модель логистической регрессии**."
      ]
    },
    {
      "cell_type": "code",
      "execution_count": 13,
      "metadata": {
        "id": "nANsYXU7XMZF"
      },
      "outputs": [],
      "source": [
        "logistic_regression_model = linear_model.LogisticRegression(\n",
        "    max_iter=500\n",
        ")"
      ]
    },
    {
      "cell_type": "markdown",
      "metadata": {
        "id": "XDKC4yxQOy83"
      },
      "source": [
        "### 3. B. Случайный лес\n",
        "Далее **создадим модель случайного леса**. У него есть множество параметров, наиболее важными из которых являются:\n",
        "*   `n_estimators` - количество деревьев в лесу,\n",
        "*   `max_depth` - максимальная глубина у дерева,\n",
        "*   `min_samples_leaf` - максимальное число объектов, которые могут попасть в лист дерева.\n",
        "\n"
      ]
    },
    {
      "cell_type": "code",
      "execution_count": 14,
      "metadata": {
        "id": "0DOkijGcPZs8"
      },
      "outputs": [],
      "source": [
        "random_forest_model = ensemble.RandomForestClassifier(\n",
        "    n_estimators=50\n",
        ")"
      ]
    },
    {
      "cell_type": "markdown",
      "metadata": {
        "id": "_369MD99Pucx"
      },
      "source": [
        "### 3. C. Нейронная сеть\n",
        "Теперь переходим к **созданию нейронной сети**. Объявим скрытые слои и количество нейронов в каждом из них.\n"
      ]
    },
    {
      "cell_type": "code",
      "execution_count": 15,
      "metadata": {
        "id": "OdRUCtNfRIT5"
      },
      "outputs": [],
      "source": [
        "# Количество входных параметров\n",
        "in_neurons = training_data.shape[1]\n",
        "# Количество выходных данных\n",
        "out_neurons = 1\n",
        "\n",
        "# Объявление количества нейронов в каждом из слоёв\n",
        "hidden_layers = [100, 125, 100]"
      ]
    },
    {
      "cell_type": "markdown",
      "metadata": {
        "id": "bRmbloloU9d2"
      },
      "source": [
        "Объявим модель и добавим первый слой: `InputLayer`."
      ]
    },
    {
      "cell_type": "code",
      "execution_count": 16,
      "metadata": {
        "id": "CjVQw69nVAfN"
      },
      "outputs": [],
      "source": [
        "# Объявление модели\n",
        "neural_network = Sequential()\n",
        "\n",
        "# Добавление входного слоя\n",
        "neural_network.add(keras.layers.InputLayer(input_shape=(in_neurons,)))"
      ]
    },
    {
      "cell_type": "markdown",
      "metadata": {
        "id": "yQxx3XpPSw7s"
      },
      "source": [
        "В качестве функции активации для скрытых слоёв будем использовать **ReLU (Rectified Linear Unit)**. Она преобразует отрицательное входное значение в 0 и сохраняет его при положительном значении."
      ]
    },
    {
      "cell_type": "code",
      "execution_count": 17,
      "metadata": {
        "id": "X6JkzMuoTtcZ"
      },
      "outputs": [],
      "source": [
        "for hidden_layer in hidden_layers:\n",
        "  neural_network.add(Dense(units=hidden_layer, activation='relu'))"
      ]
    },
    {
      "cell_type": "markdown",
      "metadata": {
        "id": "hWUKRbSCXdD9"
      },
      "source": [
        "В выходном слое в качестве функции активации будем использовать **Sigmoid**. **Формула активации сигмоида**:\n",
        "\n",
        "*sigmoid(x) = 1 / (1 + exp(-x)).*\n",
        "\n",
        "Так как её выход находится в диапазоне от 0 до 1, она идеально подходит для выходного слоя, чтобы получить результат в виде вероятности для двоичной классификации.\n",
        "\n"
      ]
    },
    {
      "cell_type": "code",
      "execution_count": 18,
      "metadata": {
        "id": "u0Bv6-TgY0nn"
      },
      "outputs": [],
      "source": [
        "neural_network.add(Dense(units=out_neurons, activation='sigmoid'))"
      ]
    },
    {
      "cell_type": "markdown",
      "metadata": {
        "id": "K-zgBvTWb0kH"
      },
      "source": [
        "Проверим всё ли прошло успешно."
      ]
    },
    {
      "cell_type": "code",
      "execution_count": null,
      "metadata": {
        "colab": {
          "base_uri": "https://localhost:8080/"
        },
        "id": "eq5UkPnXbyem",
        "outputId": "cb906340-8326-49f8-d319-1b801ed311be"
      },
      "outputs": [],
      "source": [
        "print(neural_network.summary())"
      ]
    },
    {
      "cell_type": "markdown",
      "metadata": {
        "id": "YXhUfESxcv-M"
      },
      "source": [
        "**Скомпилируем объявленную модель.** Для этого будем использовать следующие параметры функции `compile`:\n",
        "*   `loss` - функция потерь;\n",
        "*   `optimizer` - оптимизатор алгоритма градиентного спуска;\n",
        "*   `metrics` - список метрик, которые будут посчитаны как во время обучения, так и во время тестирования модели.\n",
        "\n"
      ]
    },
    {
      "cell_type": "code",
      "execution_count": 20,
      "metadata": {
        "id": "QEUvLUEndc40"
      },
      "outputs": [],
      "source": [
        "neural_network.compile(\n",
        "    loss='binary_crossentropy',\n",
        "    optimizer=           'SGD',\n",
        "    metrics=      ['accuracy']\n",
        ")"
      ]
    },
    {
      "cell_type": "markdown",
      "metadata": {
        "id": "sKf_wX41fpJu"
      },
      "source": [
        "## 4. Обучение моделей"
      ]
    },
    {
      "cell_type": "markdown",
      "metadata": {
        "id": "qM6N_dRXf0HV"
      },
      "source": [
        "Для обучения статистических моделей используем метод `fit()`, в который в качестве параметров нужно передать обучающую выборку и столбец значений ключевой переменной (в нашем случае: `training_data` и `target_values`):"
      ]
    },
    {
      "cell_type": "code",
      "execution_count": null,
      "metadata": {
        "colab": {
          "base_uri": "https://localhost:8080/",
          "height": 74
        },
        "id": "5iaTuW5xgdNv",
        "outputId": "24a21078-6f74-45f0-836c-2edf0b8bdf0d"
      },
      "outputs": [],
      "source": [
        "logistic_regression_model.fit(training_data, training_target_data)"
      ]
    },
    {
      "cell_type": "code",
      "execution_count": null,
      "metadata": {
        "colab": {
          "base_uri": "https://localhost:8080/",
          "height": 74
        },
        "id": "02r-tpnZhBla",
        "outputId": "5bbf37bf-87a2-46ed-ca8d-6cd84e208264"
      },
      "outputs": [],
      "source": [
        "random_forest_model.fit(training_data, training_target_data)"
      ]
    },
    {
      "cell_type": "markdown",
      "metadata": {
        "id": "xiCBleqrhJUh"
      },
      "source": [
        "Перейдем к обучению нейронной сети. Для этого, аналогично, используем метод `fit()`.\n",
        "\n",
        "Объявим `checkpoint` и будем сохранять состояния в `neural_network_history` для визуализации процесса обучения."
      ]
    },
    {
      "cell_type": "code",
      "execution_count": null,
      "metadata": {
        "colab": {
          "base_uri": "https://localhost:8080/"
        },
        "id": "34i_CqbRhim3",
        "outputId": "83c99468-c99c-4258-f10a-6522278f7979"
      },
      "outputs": [],
      "source": [
        "checkpoint = keras.callbacks.ModelCheckpoint(\n",
        "    filepath='model_weights.hdf5',\n",
        "    monitor=            'val_acc',\n",
        "    verbose=                    0,\n",
        "    save_weights_only=      False,\n",
        "    save_best_only=         False,\n",
        "    mode=                   'max'\n",
        ")\n",
        "\n",
        "neural_network_history = neural_network.fit(\n",
        "    training_data,\n",
        "    training_target_data,\n",
        "    validation_data=(test_data, test_target_data),\n",
        "    batch_size=64,\n",
        "    callbacks=[checkpoint],\n",
        "    initial_epoch=0,\n",
        "    epochs=100\n",
        ")"
      ]
    },
    {
      "cell_type": "markdown",
      "metadata": {
        "id": "NxFQ1TSUFL9l"
      },
      "source": [
        "В результате получаем:"
      ]
    },
    {
      "cell_type": "code",
      "execution_count": null,
      "metadata": {
        "colab": {
          "base_uri": "https://localhost:8080/"
        },
        "id": "LsQ7DFKaFyBi",
        "outputId": "413063f8-2403-4237-cad5-e6458b321811"
      },
      "outputs": [],
      "source": [
        "final_loss, final_accuracy = neural_network.evaluate(\n",
        "    test_data,\n",
        "    test_target_data,\n",
        "    verbose=0\n",
        ")\n",
        "\n",
        "print('Final Loss:    ',     final_loss)\n",
        "print('Final Accuracy:', final_accuracy)"
      ]
    },
    {
      "cell_type": "markdown",
      "metadata": {
        "id": "bM2TyzwRGzgH"
      },
      "source": [
        "## 5. Анализ результатов"
      ]
    },
    {
      "cell_type": "markdown",
      "metadata": {
        "id": "kzRbDg8uIL-W"
      },
      "source": [
        "Сначала получим прогнозы с помощью полученных моделей. Для этого для обеих моделей запустим метод `predict()`."
      ]
    },
    {
      "cell_type": "code",
      "execution_count": 25,
      "metadata": {
        "id": "Lt6pi4y9hY2x"
      },
      "outputs": [],
      "source": [
        "logistic_regression_prediction = logistic_regression_model.predict(test_data)"
      ]
    },
    {
      "cell_type": "code",
      "execution_count": 26,
      "metadata": {
        "id": "OgIlgNIwhZ00"
      },
      "outputs": [],
      "source": [
        "random_forest_prediction = random_forest_model.predict(test_data)"
      ]
    },
    {
      "cell_type": "code",
      "execution_count": null,
      "metadata": {
        "colab": {
          "base_uri": "https://localhost:8080/"
        },
        "id": "zAumcijhjmYi",
        "outputId": "52b8f2bd-f2de-41d6-f5a4-0ff6703880ae"
      },
      "outputs": [],
      "source": [
        "neural_network_proba = neural_network.predict(test_data)\n",
        "neural_network_prediction = (neural_network_proba > 0.3)"
      ]
    },
    {
      "cell_type": "markdown",
      "metadata": {
        "id": "b5TZ9qm9jVD8"
      },
      "source": [
        "Теперь, с помощью метода `accuracy_score() ` **рассчитаем точность** работы каждой модели, сравнив полученные результаты с настоящими."
      ]
    },
    {
      "cell_type": "code",
      "execution_count": null,
      "metadata": {
        "colab": {
          "base_uri": "https://localhost:8080/"
        },
        "id": "Q947qDeFlc9Y",
        "outputId": "493099db-30a3-4ce0-8ab1-93ae5573e491"
      },
      "outputs": [],
      "source": [
        "print('Accuracy score:')\n",
        "print('1. Logistic regression:', accuracy_score(test_target_data, logistic_regression_prediction))\n",
        "print('2. Random forest:      ', accuracy_score(test_target_data,       random_forest_prediction))\n",
        "print('3. Neural network:     ', accuracy_score(test_target_data,      neural_network_prediction))"
      ]
    },
    {
      "cell_type": "markdown",
      "metadata": {
        "id": "BG5aAN3LoW2A"
      },
      "source": [
        "**Рассмотрим таблицу сопряжённости** каждой модели."
      ]
    },
    {
      "cell_type": "code",
      "execution_count": null,
      "metadata": {
        "colab": {
          "base_uri": "https://localhost:8080/",
          "height": 112
        },
        "id": "lpdEUxJHncMT",
        "outputId": "b3e0b275-c219-4a22-f0a8-40e908bda5c5"
      },
      "outputs": [],
      "source": [
        "# Построение таблицы споряжённости для модели\n",
        "# логистической регрессии\n",
        "logistic_regression_confusion_matrix = confusion_matrix(\n",
        "    test_target_data,\n",
        "    logistic_regression_prediction\n",
        ")\n",
        "\n",
        "logistic_regression_confusion_matrix = pd.DataFrame(\n",
        "    logistic_regression_confusion_matrix\n",
        ")\n",
        "\n",
        "logistic_regression_confusion_matrix"
      ]
    },
    {
      "cell_type": "code",
      "execution_count": null,
      "metadata": {
        "colab": {
          "base_uri": "https://localhost:8080/",
          "height": 112
        },
        "id": "IxV2qtdvp2Wt",
        "outputId": "0dd29ef1-e431-45c8-80f3-4180a53795fc"
      },
      "outputs": [],
      "source": [
        "# Построение таблицы споряжённости для модели\n",
        "# случайного леса\n",
        "random_forest_confusion_matrix = confusion_matrix(\n",
        "    test_target_data,\n",
        "    random_forest_prediction\n",
        ")\n",
        "\n",
        "random_forest_confusion_matrix = pd.DataFrame(\n",
        "    random_forest_confusion_matrix\n",
        ")\n",
        "\n",
        "random_forest_confusion_matrix"
      ]
    },
    {
      "cell_type": "code",
      "execution_count": null,
      "metadata": {
        "colab": {
          "base_uri": "https://localhost:8080/",
          "height": 112
        },
        "id": "l0q660OIoqv8",
        "outputId": "b5b6cf57-b894-4013-a2b6-031aa1d95eaa"
      },
      "outputs": [],
      "source": [
        "# Построение таблицы споряжённости для модели\n",
        "# нейронной сети\n",
        "neural_network_confusion_matrix = confusion_matrix(\n",
        "    test_target_data,\n",
        "    neural_network_prediction\n",
        ")\n",
        "\n",
        "neural_network_confusion_matrix = pd.DataFrame(\n",
        "    neural_network_confusion_matrix\n",
        ")\n",
        "\n",
        "neural_network_confusion_matrix"
      ]
    },
    {
      "cell_type": "markdown",
      "metadata": {
        "id": "Dtxx78kDretB"
      },
      "source": [
        "Следует обратить внимание, что **модели логистической регрессии и нейронной сети склонны ошибочно определять \"плохого\" клиента как \"хорошего\"**. Построим, для наглядности, диаграммы для обеих моделей."
      ]
    },
    {
      "cell_type": "code",
      "execution_count": null,
      "metadata": {
        "colab": {
          "base_uri": "https://localhost:8080/",
          "height": 428
        },
        "id": "qLZtxXwnsbvK",
        "outputId": "dba1ec58-878e-4f1a-d1dc-ebf62a00fc13"
      },
      "outputs": [],
      "source": [
        "plt.pie(logistic_regression_confusion_matrix.iloc[1],\n",
        "        colors=['r', 'g'], wedgeprops=dict(width=0.5))\n",
        "\n",
        "plt.legend(['Клиенты ошибочно идентифицированные как \"хорошие\"',\n",
        "            'Верно спрогнозированный дефолт'], prop={'size': 8})\n",
        "\n",
        "plt.title('Логистическая регрессия')\n",
        "\n",
        "plt.show()"
      ]
    },
    {
      "cell_type": "code",
      "execution_count": null,
      "metadata": {
        "colab": {
          "base_uri": "https://localhost:8080/",
          "height": 428
        },
        "id": "DLEFp0SywTwj",
        "outputId": "ac49a5bf-3dac-409c-9646-288a6bc87650"
      },
      "outputs": [],
      "source": [
        "plt.pie(neural_network_confusion_matrix.iloc[1],\n",
        "        colors=['r', 'g'], wedgeprops=dict(width=0.5))\n",
        "\n",
        "plt.legend(['Клиенты ошибочно идентифицированные как \"хорошие\"',\n",
        "            'Верно спрогнозированный дефолт'], prop={'size': 8})\n",
        "\n",
        "plt.title('Нейронная сеть')\n",
        "\n",
        "plt.show()"
      ]
    },
    {
      "cell_type": "markdown",
      "metadata": {
        "id": "2xPd48Sowcvu"
      },
      "source": [
        "Скорее всего, данная проблема вызвана тем, что в обучающей выборке \"хороших\" клиентов много больше чем \"плохих\". Несмотря на это, модель случайного леса показала очень хороший результат. Визуализируем и его."
      ]
    },
    {
      "cell_type": "code",
      "execution_count": null,
      "metadata": {
        "colab": {
          "base_uri": "https://localhost:8080/",
          "height": 428
        },
        "id": "zE9CnbmLxM1y",
        "outputId": "826085b1-5616-45c3-a143-0f0af728b793"
      },
      "outputs": [],
      "source": [
        "plt.pie(random_forest_confusion_matrix.iloc[1],\n",
        "        colors=['r', 'g'], wedgeprops=dict(width=0.5))\n",
        "\n",
        "plt.legend(['Клиенты ошибочно идентифицированные как \"хорошие\"',\n",
        "            'Верно спрогнозированный дефолт'], prop={'size': 8})\n",
        "\n",
        "plt.title('Случайный лес')\n",
        "\n",
        "plt.show()"
      ]
    },
    {
      "cell_type": "markdown",
      "metadata": {
        "id": "qEwQ9vs2ytQr"
      },
      "source": [
        "Далее сравним результаты работы моделей с помощью **ROC-метрики**. Для этого, сначала, вместо прогноза меток классов у статистических моделей получим с помощью метода `predict_proba()` метки вероятности принадлежности к классам."
      ]
    },
    {
      "cell_type": "code",
      "execution_count": 35,
      "metadata": {
        "id": "0wjaMFc7zOeC"
      },
      "outputs": [],
      "source": [
        "logistic_regression_proba = logistic_regression_model.predict_proba(test_data)[:,1]"
      ]
    },
    {
      "cell_type": "code",
      "execution_count": 36,
      "metadata": {
        "id": "yZG5Cis02Wu9"
      },
      "outputs": [],
      "source": [
        "random_forest_proba = random_forest_model.predict_proba(test_data)[:,1]"
      ]
    },
    {
      "cell_type": "markdown",
      "metadata": {
        "id": "WxRnpafn2i4M"
      },
      "source": [
        "Функция `roc_curve()` из **scikit-learn** позволяет получить координаты точек ROC кривой, а также значения порога **threshold**, при котором достигается соответствующие значения метрик **FPR** и **TPR**.\n",
        "\n",
        "На вход функции `roc_curve()` необходимо передать два аргумента:\n",
        "* истинные значения меток - `test_values`;\n",
        "* вероятности, предсказанные моделью.\n",
        "\n",
        "Начнём с модели логистической регрессии."
      ]
    },
    {
      "cell_type": "code",
      "execution_count": null,
      "metadata": {
        "colab": {
          "base_uri": "https://localhost:8080/"
        },
        "id": "3H3zlEYI28l-",
        "outputId": "c1be3275-46f9-4d7b-ba8e-4938be5d0014"
      },
      "outputs": [],
      "source": [
        "FPR, TPR, threshold = roc_curve(test_target_data, logistic_regression_proba)\n",
        "\n",
        "print(\n",
        "    'Площадь под ROC-кривой:',\n",
        "    roc_auc_score(test_target_data, logistic_regression_proba)\n",
        ")"
      ]
    },
    {
      "cell_type": "markdown",
      "metadata": {
        "id": "pMS1zWBC7sfn"
      },
      "source": [
        "Объявим функцию, которая будет строить ROC-кривую."
      ]
    },
    {
      "cell_type": "code",
      "execution_count": 38,
      "metadata": {
        "id": "5qNiyp5h7p5v"
      },
      "outputs": [],
      "source": [
        "def plot_ROC(FPR, TPR, threshold, title):\n",
        "    # создаём график\n",
        "    plt.figure(figsize=(5, 5))\n",
        "\n",
        "    # строим кривую\n",
        "    plt.plot(FPR, TPR, label='Сглаженные значения ROC-AUC')\n",
        "\n",
        "    # кривая, соответствующая случайному угадыванию\n",
        "    plt.plot([0, 1], [0, 1], color='k', lw=2, linestyle=':',\n",
        "            label='Модель, выдающая случайное значение')\n",
        "\n",
        "    plt.title(title)\n",
        "    plt.xlabel('False Positive Rate')\n",
        "    plt.ylabel('True Positive Rate')\n",
        "\n",
        "    plt.fill_between(FPR, TPR, step=\"mid\", alpha=0.4,\n",
        "                    label='Площадь под кривой (ROC-AUC)')\n",
        "    plt.legend()\n",
        "    plt.show()"
      ]
    },
    {
      "cell_type": "markdown",
      "metadata": {
        "id": "wUVQ9tW688VN"
      },
      "source": [
        "Построим кривую для модели линейной регрессии."
      ]
    },
    {
      "cell_type": "code",
      "execution_count": null,
      "metadata": {
        "colab": {
          "base_uri": "https://localhost:8080/",
          "height": 487
        },
        "id": "jylmkzZx9B0L",
        "outputId": "8efbd749-8977-4084-bc2f-4ecdd166d2f8"
      },
      "outputs": [],
      "source": [
        "plot_ROC(FPR, TPR, threshold, 'ROC [logistic regression model]')"
      ]
    },
    {
      "cell_type": "markdown",
      "metadata": {
        "id": "2SPBTgsX8OGu"
      },
      "source": [
        "Повторим те же действия для остальных моделей.\n"
      ]
    },
    {
      "cell_type": "code",
      "execution_count": null,
      "metadata": {
        "colab": {
          "base_uri": "https://localhost:8080/"
        },
        "id": "uy39s3Mc8SUF",
        "outputId": "d885c616-9af1-4ee6-c6d5-91e82ce5bc28"
      },
      "outputs": [],
      "source": [
        "# Для модели случайного леса\n",
        "FPR, TPR, threshold = roc_curve(test_target_data, random_forest_proba)\n",
        "\n",
        "print(\n",
        "    'Площадь под ROC-кривой:',\n",
        "    roc_auc_score(test_target_data, random_forest_proba)\n",
        ")"
      ]
    },
    {
      "cell_type": "code",
      "execution_count": null,
      "metadata": {
        "colab": {
          "base_uri": "https://localhost:8080/",
          "height": 487
        },
        "id": "TdDaYhayjBpl",
        "outputId": "00d47b4c-c6e0-4b45-e919-a31c788af320"
      },
      "outputs": [],
      "source": [
        "plot_ROC(FPR, TPR, threshold, 'ROC [random forest model]')"
      ]
    },
    {
      "cell_type": "code",
      "execution_count": null,
      "metadata": {
        "colab": {
          "base_uri": "https://localhost:8080/"
        },
        "id": "UsGK1T6z-Chu",
        "outputId": "c9f94651-77ae-4626-d32e-e23b46a7a30c"
      },
      "outputs": [],
      "source": [
        "# Для модели нейронной сети\n",
        "FPR, TPR, threshold = roc_curve(test_target_data, neural_network_proba)\n",
        "\n",
        "print(\n",
        "    'Площадь под ROC-кривой:',\n",
        "    roc_auc_score(test_target_data, neural_network_proba)\n",
        ")"
      ]
    },
    {
      "cell_type": "code",
      "execution_count": null,
      "metadata": {
        "colab": {
          "base_uri": "https://localhost:8080/",
          "height": 487
        },
        "id": "B5TD7AoSjJIv",
        "outputId": "6b46f949-5645-4b5d-af2f-d593868889b8"
      },
      "outputs": [],
      "source": [
        "plot_ROC(FPR, TPR, threshold, 'ROC [neural network model]')"
      ]
    },
    {
      "cell_type": "code",
      "execution_count": null,
      "metadata": {
        "colab": {
          "base_uri": "https://localhost:8080/",
          "height": 465
        },
        "id": "qHJl94hgc93d",
        "outputId": "0f06802b-181a-49b1-9693-ad4daf70ca9b"
      },
      "outputs": [],
      "source": [
        "# создаём график\n",
        "plt.figure(figsize=(5, 5))\n",
        "\n",
        "# строим кривые\n",
        "FPR, TPR, _ = roc_curve(test_target_data, logistic_regression_proba)\n",
        "plt.plot(FPR, TPR, label='Логистическая регрессия')\n",
        "\n",
        "FPR, TPR, _ = roc_curve(test_target_data, random_forest_proba)\n",
        "plt.plot(FPR, TPR, label='Случайные лес')\n",
        "\n",
        "FPR, TPR, _ = roc_curve(test_target_data, neural_network_proba)\n",
        "plt.plot(FPR, TPR, label='Нейронная сеть')\n",
        "\n",
        "# кривая, соответствующая случайному угадыванию\n",
        "plt.plot([0, 1], [0, 1], color='k', lw=2, linestyle=':',\n",
        "         label='Модель, выдающая случайное значение')\n",
        "\n",
        "#plt.title()\n",
        "plt.xlabel('False Positive Rate')\n",
        "plt.ylabel('True Positive Rate')\n",
        "\n",
        "plt.legend()\n",
        "plt.show()"
      ]
    },
    {
      "cell_type": "markdown",
      "metadata": {
        "id": "VccyF72mGnlA"
      },
      "source": [
        "Вычислим **точность**, **полноту** и **F1-меру** для каждой модели.\n",
        "\n",
        "Для этого объявим следующую функцию."
      ]
    },
    {
      "cell_type": "code",
      "execution_count": 45,
      "metadata": {
        "id": "7u-ITAoPGlkF"
      },
      "outputs": [],
      "source": [
        "def evaluate_all(test_target_data, predictions):\n",
        "  conf_matrix = confusion_matrix(test_target_data, predictions)\n",
        "\n",
        "  TN, FP = conf_matrix[0, 0], conf_matrix[0, 1]\n",
        "  FN, TP = conf_matrix[1, 0], conf_matrix[1, 1]\n",
        "\n",
        "  # Точность\n",
        "  precision = TP / (TP + FP)\n",
        "  print(\"Точность: %.2f%%\" % (100 * precision))\n",
        "\n",
        "  # Полнота\n",
        "  recall = TP / (TP + FN)\n",
        "  print(\"Полнота:  %.2f%%\" % (100 * recall))\n",
        "\n",
        "  # F1-мера\n",
        "  F1_score = 2 * precision * recall / (precision + recall)\n",
        "  print(\"F1-мера:\", F1_score)"
      ]
    },
    {
      "cell_type": "markdown",
      "metadata": {
        "id": "8XqeKDGhJoU8"
      },
      "source": [
        "Теперь выозовем эту функцию, передав туда предсказанные значения каждой модели. Начнём с логистической регрессии."
      ]
    },
    {
      "cell_type": "code",
      "execution_count": null,
      "metadata": {
        "colab": {
          "base_uri": "https://localhost:8080/"
        },
        "id": "Anw1vtgDJoEl",
        "outputId": "de4d2dfc-62ba-4c85-9865-8007ce99ce62"
      },
      "outputs": [],
      "source": [
        "print('Оценка модели логистической регрессии:')\n",
        "\n",
        "evaluate_all(test_target_data, logistic_regression_prediction)"
      ]
    },
    {
      "cell_type": "code",
      "execution_count": null,
      "metadata": {
        "colab": {
          "base_uri": "https://localhost:8080/"
        },
        "id": "Up3guMxSKYpq",
        "outputId": "f658aeec-f576-4d0f-c0be-a5b241b3cde6"
      },
      "outputs": [],
      "source": [
        "print('Оценка модели случайного леса:')\n",
        "\n",
        "evaluate_all(test_target_data, random_forest_prediction)"
      ]
    },
    {
      "cell_type": "code",
      "execution_count": null,
      "metadata": {
        "colab": {
          "base_uri": "https://localhost:8080/"
        },
        "id": "mVU-PA0WKaBS",
        "outputId": "38c502b5-2d2a-423d-9e8d-99bd6ff1265f"
      },
      "outputs": [],
      "source": [
        "print('Оценка модели нейронной сети:')\n",
        "\n",
        "evaluate_all(test_target_data, neural_network_prediction)"
      ]
    }
  ],
  "metadata": {
    "colab": {
      "include_colab_link": true,
      "provenance": [],
      "toc_visible": true
    },
    "kernelspec": {
      "display_name": "Python 3",
      "name": "python3"
    },
    "language_info": {
      "codemirror_mode": {
        "name": "ipython",
        "version": 3
      },
      "file_extension": ".py",
      "mimetype": "text/x-python",
      "name": "python",
      "nbconvert_exporter": "python",
      "pygments_lexer": "ipython3",
      "version": "3.12.6"
    }
  },
  "nbformat": 4,
  "nbformat_minor": 0
}
