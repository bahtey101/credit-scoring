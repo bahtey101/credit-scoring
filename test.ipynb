{
 "cells": [
  {
   "cell_type": "code",
   "execution_count": 1,
   "metadata": {},
   "outputs": [],
   "source": [
    "import numpy as np\n",
    "import pandas as pd"
   ]
  },
  {
   "cell_type": "code",
   "execution_count": 27,
   "metadata": {},
   "outputs": [
    {
     "name": "stdout",
     "output_type": "stream",
     "text": [
      "0 [1. 3. 3.]\n",
      "1 [1. 4. 5.]\n",
      "2 [2. 2. 1.]\n"
     ]
    }
   ],
   "source": [
    "l = [[1, 1, 2], [3, 4, 2], [3, 5, 1]]\n",
    "s = pd.Series(l)\n",
    "a = np.asarray(l, dtype=np.float64)\n",
    "\n",
    "a, a.T\n",
    "\n",
    "for i, x in enumerate(a.T): print (i, x)"
   ]
  },
  {
   "cell_type": "code",
   "execution_count": 6,
   "metadata": {},
   "outputs": [
    {
     "data": {
      "text/plain": [
       "{1: 0.25, 2: 0.25, 3: 0.25, 4: 0.125, 5: 0.125}"
      ]
     },
     "execution_count": 6,
     "metadata": {},
     "output_type": "execute_result"
    }
   ],
   "source": [
    "s.value_counts(normalize=True).to_dict()"
   ]
  },
  {
   "cell_type": "code",
   "execution_count": 14,
   "metadata": {},
   "outputs": [
    {
     "data": {
      "text/plain": [
       "{np.float64(1.0): np.float64(0.25),\n",
       " np.float64(2.0): np.float64(0.25),\n",
       " np.float64(3.0): np.float64(0.25),\n",
       " np.float64(4.0): np.float64(0.125),\n",
       " np.float64(5.0): np.float64(0.125)}"
      ]
     },
     "execution_count": 14,
     "metadata": {},
     "output_type": "execute_result"
    }
   ],
   "source": [
    "u, c = np.unique(a, return_counts=True)\n",
    "d = dict(zip(u, c / len(a)))\n",
    "\n",
    "d"
   ]
  },
  {
   "cell_type": "code",
   "execution_count": 41,
   "metadata": {},
   "outputs": [
    {
     "name": "stdout",
     "output_type": "stream",
     "text": [
      "[[1. 1. 2.]\n",
      " [3. 4. 2.]\n",
      " [3. 5. 1.]]\n",
      "[0 1] [2]\n",
      "[[1. 1. 2.]\n",
      " [3. 4. 2.]]\n",
      "[[3. 5. 1.]]\n"
     ]
    }
   ],
   "source": [
    "def split(X, feature, threshold):\n",
    "        left = np.where(X[:, feature] <= threshold)[0]\n",
    "        right = np.where(X[:, feature] > threshold)[0]\n",
    "\n",
    "        return left, right\n",
    "\n",
    "left, right = (split(a, 1, 4))\n",
    "print(a)\n",
    "print(left, right)\n",
    "a1 = a[left]\n",
    "a2 = a[right]\n",
    "print(a1, a2, sep='\\n')"
   ]
  },
  {
   "cell_type": "code",
   "execution_count": null,
   "metadata": {},
   "outputs": [],
   "source": []
  }
 ],
 "metadata": {
  "kernelspec": {
   "display_name": "Python 3",
   "language": "python",
   "name": "python3"
  },
  "language_info": {
   "codemirror_mode": {
    "name": "ipython",
    "version": 3
   },
   "file_extension": ".py",
   "mimetype": "text/x-python",
   "name": "python",
   "nbconvert_exporter": "python",
   "pygments_lexer": "ipython3",
   "version": "3.12.6"
  }
 },
 "nbformat": 4,
 "nbformat_minor": 2
}
