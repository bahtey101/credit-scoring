{
  "cells": [
    {
      "cell_type": "markdown",
      "metadata": {
        "id": "view-in-github",
        "colab_type": "text"
      },
      "source": [
        "<a href=\"https://colab.research.google.com/github/bahtey101/Credit_Scoring/blob/main/credit_scoring.ipynb\" target=\"_parent\"><img src=\"https://colab.research.google.com/assets/colab-badge.svg\" alt=\"Open In Colab\"/></a>"
      ]
    },
    {
      "cell_type": "markdown",
      "metadata": {
        "id": "gQyq_8EbFNIv"
      },
      "source": [
        "# Решение задачи кредитного с помощью методов машинного обучения\n",
        "---\n",
        "**План работы**\n",
        "*   подключить необходимые библиотеки,\n",
        "*   предобработать данные для обучения и тестирования,\n",
        "*   построить модели,\n",
        "*   обучить модели на обучающей выборке,\n",
        "*   провести анализ результатов работы моделей.\n",
        "\n",
        "\n",
        "\n",
        "\n"
      ]
    },
    {
      "cell_type": "markdown",
      "metadata": {
        "id": "LwuAJ75pHuj9"
      },
      "source": [
        "## 1. Подключение библиотек\n"
      ]
    },
    {
      "cell_type": "markdown",
      "metadata": {
        "id": "-b2USbwUIO_U"
      },
      "source": [
        "Для простоты работы с данными будем использовать библиотеку **pandas**, предназначенную для хранения, обработки и анализа данных."
      ]
    },
    {
      "cell_type": "code",
      "execution_count": 1,
      "metadata": {
        "id": "rlQYfWDh-Akh"
      },
      "outputs": [],
      "source": [
        "import pandas as pd"
      ]
    },
    {
      "cell_type": "markdown",
      "metadata": {
        "id": "fKNVNqssIhF3"
      },
      "source": [
        "Для визуализации исходных и полученных данных подключим библиотеку **matplotlib**, с помощью которой можно строить различные двумерные и трехмерные графики."
      ]
    },
    {
      "cell_type": "code",
      "execution_count": 2,
      "metadata": {
        "id": "_97eBquIIk45"
      },
      "outputs": [],
      "source": [
        "import matplotlib.pyplot as plt"
      ]
    },
    {
      "cell_type": "markdown",
      "metadata": {
        "id": "Hw3Twp4DIpkq"
      },
      "source": [
        "Подключим модуль **numpy**, который позволяет производить вычисления сразу над массивами чисел."
      ]
    },
    {
      "cell_type": "code",
      "execution_count": 3,
      "metadata": {
        "id": "FYmfET7JIzpY"
      },
      "outputs": [],
      "source": [
        "import numpy as np"
      ]
    },
    {
      "cell_type": "markdown",
      "metadata": {
        "id": "U9Kt5GdLI25e"
      },
      "source": [
        "Для построения моделей логистической регрессии и ансамбля деревьев решений будем использовать библиотеку **scikit-learn**. Она предоставляет широкий спектр инструментов для разработки и применения различных алгоритмов машинного обучения, включая классификацию, регрессию, кластеризацию, уменьшение размерности, отбор признаков и многое другое. **scikit-learn** также предоставляет удобные средства для предобработки данных, оценки моделей и выбора оптимальных параметров.\n",
        "\n",
        "Выберем из неё следующее:\n",
        "\n",
        "*   классификатор дерева решений - **DecisionTreeClassifier**;\n",
        "*   метод для кросс-валидации - **KFold**;\n",
        "*   несколько функций для расчёта метрик качества классификации."
      ]
    },
    {
      "cell_type": "code",
      "execution_count": 4,
      "metadata": {
        "id": "s32cIWIxJH3X"
      },
      "outputs": [],
      "source": [
        "# Классификатор дерева решений\n",
        "from sklearn.tree import DecisionTreeClassifier\n",
        "\n",
        "# k-fold кросс-валидация\n",
        "from sklearn.model_selection import KFold\n",
        "\n",
        "# Метрики качества:\n",
        "from sklearn.metrics import roc_curve, precision_recall_curve, auc\n",
        "from sklearn.metrics import roc_auc_score\n",
        "from sklearn.metrics import confusion_matrix, f1_score, accuracy_score\n",
        "from sklearn.metrics import average_precision_score\n",
        "\n",
        "# Функции для подготовки данных\n",
        "from sklearn.preprocessing import MinMaxScaler\n",
        "from sklearn.model_selection import train_test_split\n",
        "\n",
        "# Модели логистической регрессии и ансамбля\n",
        "# деревьев решений\n",
        "from sklearn import linear_model, ensemble"
      ]
    },
    {
      "cell_type": "markdown",
      "metadata": {
        "id": "9yx2eJUNJaEi"
      },
      "source": [
        "Для построения и обучения нейронной сети будем использовать библиотеку **Tensorflow**. **Tensorflow** - открытая библиотека для машинного обучения, разработанная для решения задач построения и тренировки нейронной сети с целью автоматического нахождения и классификации образов, достигая качества человеческого восприятия."
      ]
    },
    {
      "cell_type": "code",
      "execution_count": 5,
      "metadata": {
        "colab": {
          "base_uri": "https://localhost:8080/"
        },
        "id": "lb65e44RM-VZ",
        "outputId": "aaba2587-d2b4-4b0e-84f5-17144c0ffb07"
      },
      "outputs": [
        {
          "output_type": "stream",
          "name": "stdout",
          "text": [
            "2.15.0\n"
          ]
        }
      ],
      "source": [
        "import tensorflow as tf\n",
        "print(tf.__version__)"
      ]
    },
    {
      "cell_type": "markdown",
      "metadata": {
        "id": "9NnqH305OF5C"
      },
      "source": [
        "Далее подключим библиотеку **keras**. Она нацелена на оперативную работу с сетями глубинного обучения.\n",
        "\n",
        "Также нам понадобятся:\n",
        "*   модель **Sequential**, которая представляет собой линейный стек слоёв;\n",
        "*   обычный плотно связанный слой - **Dense**;\n",
        "*   слой активации - **Activation**.\n",
        "\n"
      ]
    },
    {
      "cell_type": "code",
      "execution_count": 6,
      "metadata": {
        "colab": {
          "base_uri": "https://localhost:8080/"
        },
        "id": "9dUbb1H8OFe5",
        "outputId": "c62e376c-7561-4005-da92-3b36a3112c60"
      },
      "outputs": [
        {
          "output_type": "stream",
          "name": "stdout",
          "text": [
            "2.15.0\n"
          ]
        }
      ],
      "source": [
        "import keras\n",
        "print(keras.__version__)\n",
        "\n",
        "# Модель Sequential\n",
        "from keras.models import Sequential\n",
        "\n",
        "# Слои Dense и Activation\n",
        "from keras.layers import Dense, Activation"
      ]
    },
    {
      "cell_type": "markdown",
      "metadata": {
        "id": "-r7Kzw8kzGLV"
      },
      "source": [
        "## 2. Предобработка данных"
      ]
    },
    {
      "cell_type": "code",
      "execution_count": 7,
      "metadata": {
        "id": "W9UNribX5L_S"
      },
      "outputs": [],
      "source": [
        "data = pd.read_csv('/content/sample_data/credit_scoring_data.csv', na_values='nan')"
      ]
    },
    {
      "cell_type": "markdown",
      "metadata": {
        "id": "Jm6iW_3r5rLa"
      },
      "source": [
        "Рассмотрим подробнее данные, которые будем использовать."
      ]
    },
    {
      "cell_type": "code",
      "execution_count": 8,
      "metadata": {
        "colab": {
          "base_uri": "https://localhost:8080/",
          "height": 394
        },
        "id": "jnFNK7os5ric",
        "outputId": "caca23e6-9f06-49f9-f17c-422f58ee7f05"
      },
      "outputs": [
        {
          "output_type": "execute_result",
          "data": {
            "text/plain": [
              "                                         count         mean           std  \\\n",
              "SeriousDlqin2yrs                      100000.0     0.066860      0.249781   \n",
              "RevolvingUtilizationOfUnsecuredLines  100000.0     7.927880    332.391480   \n",
              "age                                   100000.0    52.240520     14.766519   \n",
              "NumberOfTime30-59DaysPastDueNotWorse  100000.0     0.428220      4.269275   \n",
              "DebtRatio                             100000.0   352.441921   2006.415984   \n",
              "MonthlyIncome                          80294.0  6642.232222  18122.595836   \n",
              "NumberOfOpenCreditLinesAndLoans       100000.0     8.476040      5.172730   \n",
              "NumberOfTimes90DaysLate               100000.0     0.269920      4.243089   \n",
              "NumberRealEstateLoansOrLines          100000.0     1.017500      1.120146   \n",
              "NumberOfTime60-89DaysPastDueNotWorse  100000.0     0.246040      4.231033   \n",
              "NumberOfDependents                     97334.0     0.756180      1.114589   \n",
              "\n",
              "                                       min          25%          50%  \\\n",
              "SeriousDlqin2yrs                       0.0     0.000000     0.000000   \n",
              "RevolvingUtilizationOfUnsecuredLines   0.0     0.030096     0.154426   \n",
              "age                                   21.0    41.000000    52.000000   \n",
              "NumberOfTime30-59DaysPastDueNotWorse   0.0     0.000000     0.000000   \n",
              "DebtRatio                              0.0     0.176304     0.366811   \n",
              "MonthlyIncome                          0.0  3400.000000  5400.000000   \n",
              "NumberOfOpenCreditLinesAndLoans        0.0     5.000000     8.000000   \n",
              "NumberOfTimes90DaysLate                0.0     0.000000     0.000000   \n",
              "NumberRealEstateLoansOrLines           0.0     0.000000     1.000000   \n",
              "NumberOfTime60-89DaysPastDueNotWorse   0.0     0.000000     0.000000   \n",
              "NumberOfDependents                     0.0     0.000000     0.000000   \n",
              "\n",
              "                                              75%        max  \n",
              "SeriousDlqin2yrs                         0.000000        1.0  \n",
              "RevolvingUtilizationOfUnsecuredLines     0.555651    50708.0  \n",
              "age                                     63.000000      109.0  \n",
              "NumberOfTime30-59DaysPastDueNotWorse     0.000000       98.0  \n",
              "DebtRatio                                0.862599   329664.0  \n",
              "MonthlyIncome                         8250.000000  3008750.0  \n",
              "NumberOfOpenCreditLinesAndLoans         11.000000       57.0  \n",
              "NumberOfTimes90DaysLate                  0.000000       98.0  \n",
              "NumberRealEstateLoansOrLines             2.000000       32.0  \n",
              "NumberOfTime60-89DaysPastDueNotWorse     0.000000       98.0  \n",
              "NumberOfDependents                       1.000000       10.0  "
            ],
            "text/html": [
              "\n",
              "  <div id=\"df-d5b182ca-e9ae-4372-837f-63b068aa5653\" class=\"colab-df-container\">\n",
              "    <div>\n",
              "<style scoped>\n",
              "    .dataframe tbody tr th:only-of-type {\n",
              "        vertical-align: middle;\n",
              "    }\n",
              "\n",
              "    .dataframe tbody tr th {\n",
              "        vertical-align: top;\n",
              "    }\n",
              "\n",
              "    .dataframe thead th {\n",
              "        text-align: right;\n",
              "    }\n",
              "</style>\n",
              "<table border=\"1\" class=\"dataframe\">\n",
              "  <thead>\n",
              "    <tr style=\"text-align: right;\">\n",
              "      <th></th>\n",
              "      <th>count</th>\n",
              "      <th>mean</th>\n",
              "      <th>std</th>\n",
              "      <th>min</th>\n",
              "      <th>25%</th>\n",
              "      <th>50%</th>\n",
              "      <th>75%</th>\n",
              "      <th>max</th>\n",
              "    </tr>\n",
              "  </thead>\n",
              "  <tbody>\n",
              "    <tr>\n",
              "      <th>SeriousDlqin2yrs</th>\n",
              "      <td>100000.0</td>\n",
              "      <td>0.066860</td>\n",
              "      <td>0.249781</td>\n",
              "      <td>0.0</td>\n",
              "      <td>0.000000</td>\n",
              "      <td>0.000000</td>\n",
              "      <td>0.000000</td>\n",
              "      <td>1.0</td>\n",
              "    </tr>\n",
              "    <tr>\n",
              "      <th>RevolvingUtilizationOfUnsecuredLines</th>\n",
              "      <td>100000.0</td>\n",
              "      <td>7.927880</td>\n",
              "      <td>332.391480</td>\n",
              "      <td>0.0</td>\n",
              "      <td>0.030096</td>\n",
              "      <td>0.154426</td>\n",
              "      <td>0.555651</td>\n",
              "      <td>50708.0</td>\n",
              "    </tr>\n",
              "    <tr>\n",
              "      <th>age</th>\n",
              "      <td>100000.0</td>\n",
              "      <td>52.240520</td>\n",
              "      <td>14.766519</td>\n",
              "      <td>21.0</td>\n",
              "      <td>41.000000</td>\n",
              "      <td>52.000000</td>\n",
              "      <td>63.000000</td>\n",
              "      <td>109.0</td>\n",
              "    </tr>\n",
              "    <tr>\n",
              "      <th>NumberOfTime30-59DaysPastDueNotWorse</th>\n",
              "      <td>100000.0</td>\n",
              "      <td>0.428220</td>\n",
              "      <td>4.269275</td>\n",
              "      <td>0.0</td>\n",
              "      <td>0.000000</td>\n",
              "      <td>0.000000</td>\n",
              "      <td>0.000000</td>\n",
              "      <td>98.0</td>\n",
              "    </tr>\n",
              "    <tr>\n",
              "      <th>DebtRatio</th>\n",
              "      <td>100000.0</td>\n",
              "      <td>352.441921</td>\n",
              "      <td>2006.415984</td>\n",
              "      <td>0.0</td>\n",
              "      <td>0.176304</td>\n",
              "      <td>0.366811</td>\n",
              "      <td>0.862599</td>\n",
              "      <td>329664.0</td>\n",
              "    </tr>\n",
              "    <tr>\n",
              "      <th>MonthlyIncome</th>\n",
              "      <td>80294.0</td>\n",
              "      <td>6642.232222</td>\n",
              "      <td>18122.595836</td>\n",
              "      <td>0.0</td>\n",
              "      <td>3400.000000</td>\n",
              "      <td>5400.000000</td>\n",
              "      <td>8250.000000</td>\n",
              "      <td>3008750.0</td>\n",
              "    </tr>\n",
              "    <tr>\n",
              "      <th>NumberOfOpenCreditLinesAndLoans</th>\n",
              "      <td>100000.0</td>\n",
              "      <td>8.476040</td>\n",
              "      <td>5.172730</td>\n",
              "      <td>0.0</td>\n",
              "      <td>5.000000</td>\n",
              "      <td>8.000000</td>\n",
              "      <td>11.000000</td>\n",
              "      <td>57.0</td>\n",
              "    </tr>\n",
              "    <tr>\n",
              "      <th>NumberOfTimes90DaysLate</th>\n",
              "      <td>100000.0</td>\n",
              "      <td>0.269920</td>\n",
              "      <td>4.243089</td>\n",
              "      <td>0.0</td>\n",
              "      <td>0.000000</td>\n",
              "      <td>0.000000</td>\n",
              "      <td>0.000000</td>\n",
              "      <td>98.0</td>\n",
              "    </tr>\n",
              "    <tr>\n",
              "      <th>NumberRealEstateLoansOrLines</th>\n",
              "      <td>100000.0</td>\n",
              "      <td>1.017500</td>\n",
              "      <td>1.120146</td>\n",
              "      <td>0.0</td>\n",
              "      <td>0.000000</td>\n",
              "      <td>1.000000</td>\n",
              "      <td>2.000000</td>\n",
              "      <td>32.0</td>\n",
              "    </tr>\n",
              "    <tr>\n",
              "      <th>NumberOfTime60-89DaysPastDueNotWorse</th>\n",
              "      <td>100000.0</td>\n",
              "      <td>0.246040</td>\n",
              "      <td>4.231033</td>\n",
              "      <td>0.0</td>\n",
              "      <td>0.000000</td>\n",
              "      <td>0.000000</td>\n",
              "      <td>0.000000</td>\n",
              "      <td>98.0</td>\n",
              "    </tr>\n",
              "    <tr>\n",
              "      <th>NumberOfDependents</th>\n",
              "      <td>97334.0</td>\n",
              "      <td>0.756180</td>\n",
              "      <td>1.114589</td>\n",
              "      <td>0.0</td>\n",
              "      <td>0.000000</td>\n",
              "      <td>0.000000</td>\n",
              "      <td>1.000000</td>\n",
              "      <td>10.0</td>\n",
              "    </tr>\n",
              "  </tbody>\n",
              "</table>\n",
              "</div>\n",
              "    <div class=\"colab-df-buttons\">\n",
              "\n",
              "  <div class=\"colab-df-container\">\n",
              "    <button class=\"colab-df-convert\" onclick=\"convertToInteractive('df-d5b182ca-e9ae-4372-837f-63b068aa5653')\"\n",
              "            title=\"Convert this dataframe to an interactive table.\"\n",
              "            style=\"display:none;\">\n",
              "\n",
              "  <svg xmlns=\"http://www.w3.org/2000/svg\" height=\"24px\" viewBox=\"0 -960 960 960\">\n",
              "    <path d=\"M120-120v-720h720v720H120Zm60-500h600v-160H180v160Zm220 220h160v-160H400v160Zm0 220h160v-160H400v160ZM180-400h160v-160H180v160Zm440 0h160v-160H620v160ZM180-180h160v-160H180v160Zm440 0h160v-160H620v160Z\"/>\n",
              "  </svg>\n",
              "    </button>\n",
              "\n",
              "  <style>\n",
              "    .colab-df-container {\n",
              "      display:flex;\n",
              "      gap: 12px;\n",
              "    }\n",
              "\n",
              "    .colab-df-convert {\n",
              "      background-color: #E8F0FE;\n",
              "      border: none;\n",
              "      border-radius: 50%;\n",
              "      cursor: pointer;\n",
              "      display: none;\n",
              "      fill: #1967D2;\n",
              "      height: 32px;\n",
              "      padding: 0 0 0 0;\n",
              "      width: 32px;\n",
              "    }\n",
              "\n",
              "    .colab-df-convert:hover {\n",
              "      background-color: #E2EBFA;\n",
              "      box-shadow: 0px 1px 2px rgba(60, 64, 67, 0.3), 0px 1px 3px 1px rgba(60, 64, 67, 0.15);\n",
              "      fill: #174EA6;\n",
              "    }\n",
              "\n",
              "    .colab-df-buttons div {\n",
              "      margin-bottom: 4px;\n",
              "    }\n",
              "\n",
              "    [theme=dark] .colab-df-convert {\n",
              "      background-color: #3B4455;\n",
              "      fill: #D2E3FC;\n",
              "    }\n",
              "\n",
              "    [theme=dark] .colab-df-convert:hover {\n",
              "      background-color: #434B5C;\n",
              "      box-shadow: 0px 1px 3px 1px rgba(0, 0, 0, 0.15);\n",
              "      filter: drop-shadow(0px 1px 2px rgba(0, 0, 0, 0.3));\n",
              "      fill: #FFFFFF;\n",
              "    }\n",
              "  </style>\n",
              "\n",
              "    <script>\n",
              "      const buttonEl =\n",
              "        document.querySelector('#df-d5b182ca-e9ae-4372-837f-63b068aa5653 button.colab-df-convert');\n",
              "      buttonEl.style.display =\n",
              "        google.colab.kernel.accessAllowed ? 'block' : 'none';\n",
              "\n",
              "      async function convertToInteractive(key) {\n",
              "        const element = document.querySelector('#df-d5b182ca-e9ae-4372-837f-63b068aa5653');\n",
              "        const dataTable =\n",
              "          await google.colab.kernel.invokeFunction('convertToInteractive',\n",
              "                                                    [key], {});\n",
              "        if (!dataTable) return;\n",
              "\n",
              "        const docLinkHtml = 'Like what you see? Visit the ' +\n",
              "          '<a target=\"_blank\" href=https://colab.research.google.com/notebooks/data_table.ipynb>data table notebook</a>'\n",
              "          + ' to learn more about interactive tables.';\n",
              "        element.innerHTML = '';\n",
              "        dataTable['output_type'] = 'display_data';\n",
              "        await google.colab.output.renderOutput(dataTable, element);\n",
              "        const docLink = document.createElement('div');\n",
              "        docLink.innerHTML = docLinkHtml;\n",
              "        element.appendChild(docLink);\n",
              "      }\n",
              "    </script>\n",
              "  </div>\n",
              "\n",
              "\n",
              "<div id=\"df-b5396f5f-b0f9-4d8a-aa2d-638de752cc21\">\n",
              "  <button class=\"colab-df-quickchart\" onclick=\"quickchart('df-b5396f5f-b0f9-4d8a-aa2d-638de752cc21')\"\n",
              "            title=\"Suggest charts\"\n",
              "            style=\"display:none;\">\n",
              "\n",
              "<svg xmlns=\"http://www.w3.org/2000/svg\" height=\"24px\"viewBox=\"0 0 24 24\"\n",
              "     width=\"24px\">\n",
              "    <g>\n",
              "        <path d=\"M19 3H5c-1.1 0-2 .9-2 2v14c0 1.1.9 2 2 2h14c1.1 0 2-.9 2-2V5c0-1.1-.9-2-2-2zM9 17H7v-7h2v7zm4 0h-2V7h2v10zm4 0h-2v-4h2v4z\"/>\n",
              "    </g>\n",
              "</svg>\n",
              "  </button>\n",
              "\n",
              "<style>\n",
              "  .colab-df-quickchart {\n",
              "      --bg-color: #E8F0FE;\n",
              "      --fill-color: #1967D2;\n",
              "      --hover-bg-color: #E2EBFA;\n",
              "      --hover-fill-color: #174EA6;\n",
              "      --disabled-fill-color: #AAA;\n",
              "      --disabled-bg-color: #DDD;\n",
              "  }\n",
              "\n",
              "  [theme=dark] .colab-df-quickchart {\n",
              "      --bg-color: #3B4455;\n",
              "      --fill-color: #D2E3FC;\n",
              "      --hover-bg-color: #434B5C;\n",
              "      --hover-fill-color: #FFFFFF;\n",
              "      --disabled-bg-color: #3B4455;\n",
              "      --disabled-fill-color: #666;\n",
              "  }\n",
              "\n",
              "  .colab-df-quickchart {\n",
              "    background-color: var(--bg-color);\n",
              "    border: none;\n",
              "    border-radius: 50%;\n",
              "    cursor: pointer;\n",
              "    display: none;\n",
              "    fill: var(--fill-color);\n",
              "    height: 32px;\n",
              "    padding: 0;\n",
              "    width: 32px;\n",
              "  }\n",
              "\n",
              "  .colab-df-quickchart:hover {\n",
              "    background-color: var(--hover-bg-color);\n",
              "    box-shadow: 0 1px 2px rgba(60, 64, 67, 0.3), 0 1px 3px 1px rgba(60, 64, 67, 0.15);\n",
              "    fill: var(--button-hover-fill-color);\n",
              "  }\n",
              "\n",
              "  .colab-df-quickchart-complete:disabled,\n",
              "  .colab-df-quickchart-complete:disabled:hover {\n",
              "    background-color: var(--disabled-bg-color);\n",
              "    fill: var(--disabled-fill-color);\n",
              "    box-shadow: none;\n",
              "  }\n",
              "\n",
              "  .colab-df-spinner {\n",
              "    border: 2px solid var(--fill-color);\n",
              "    border-color: transparent;\n",
              "    border-bottom-color: var(--fill-color);\n",
              "    animation:\n",
              "      spin 1s steps(1) infinite;\n",
              "  }\n",
              "\n",
              "  @keyframes spin {\n",
              "    0% {\n",
              "      border-color: transparent;\n",
              "      border-bottom-color: var(--fill-color);\n",
              "      border-left-color: var(--fill-color);\n",
              "    }\n",
              "    20% {\n",
              "      border-color: transparent;\n",
              "      border-left-color: var(--fill-color);\n",
              "      border-top-color: var(--fill-color);\n",
              "    }\n",
              "    30% {\n",
              "      border-color: transparent;\n",
              "      border-left-color: var(--fill-color);\n",
              "      border-top-color: var(--fill-color);\n",
              "      border-right-color: var(--fill-color);\n",
              "    }\n",
              "    40% {\n",
              "      border-color: transparent;\n",
              "      border-right-color: var(--fill-color);\n",
              "      border-top-color: var(--fill-color);\n",
              "    }\n",
              "    60% {\n",
              "      border-color: transparent;\n",
              "      border-right-color: var(--fill-color);\n",
              "    }\n",
              "    80% {\n",
              "      border-color: transparent;\n",
              "      border-right-color: var(--fill-color);\n",
              "      border-bottom-color: var(--fill-color);\n",
              "    }\n",
              "    90% {\n",
              "      border-color: transparent;\n",
              "      border-bottom-color: var(--fill-color);\n",
              "    }\n",
              "  }\n",
              "</style>\n",
              "\n",
              "  <script>\n",
              "    async function quickchart(key) {\n",
              "      const quickchartButtonEl =\n",
              "        document.querySelector('#' + key + ' button');\n",
              "      quickchartButtonEl.disabled = true;  // To prevent multiple clicks.\n",
              "      quickchartButtonEl.classList.add('colab-df-spinner');\n",
              "      try {\n",
              "        const charts = await google.colab.kernel.invokeFunction(\n",
              "            'suggestCharts', [key], {});\n",
              "      } catch (error) {\n",
              "        console.error('Error during call to suggestCharts:', error);\n",
              "      }\n",
              "      quickchartButtonEl.classList.remove('colab-df-spinner');\n",
              "      quickchartButtonEl.classList.add('colab-df-quickchart-complete');\n",
              "    }\n",
              "    (() => {\n",
              "      let quickchartButtonEl =\n",
              "        document.querySelector('#df-b5396f5f-b0f9-4d8a-aa2d-638de752cc21 button');\n",
              "      quickchartButtonEl.style.display =\n",
              "        google.colab.kernel.accessAllowed ? 'block' : 'none';\n",
              "    })();\n",
              "  </script>\n",
              "</div>\n",
              "    </div>\n",
              "  </div>\n"
            ],
            "application/vnd.google.colaboratory.intrinsic+json": {
              "type": "dataframe",
              "summary": "{\n  \"name\": \"data\",\n  \"rows\": 11,\n  \"fields\": [\n    {\n      \"column\": \"count\",\n      \"properties\": {\n        \"dtype\": \"number\",\n        \"std\": 5915.516981941339,\n        \"min\": 80294.0,\n        \"max\": 100000.0,\n        \"num_unique_values\": 3,\n        \"samples\": [\n          100000.0,\n          80294.0,\n          97334.0\n        ],\n        \"semantic_type\": \"\",\n        \"description\": \"\"\n      }\n    },\n    {\n      \"column\": \"mean\",\n      \"properties\": {\n        \"dtype\": \"number\",\n        \"std\": 1992.667953205443,\n        \"min\": 0.06686,\n        \"max\": 6642.232221585673,\n        \"num_unique_values\": 11,\n        \"samples\": [\n          6642.232221585673,\n          0.06686,\n          0.24604\n        ],\n        \"semantic_type\": \"\",\n        \"description\": \"\"\n      }\n    },\n    {\n      \"column\": \"std\",\n      \"properties\": {\n        \"dtype\": \"number\",\n        \"std\": 5425.617078442273,\n        \"min\": 0.24978063236296572,\n        \"max\": 18122.595835652253,\n        \"num_unique_values\": 11,\n        \"samples\": [\n          18122.595835652253,\n          0.24978063236296572,\n          4.231033364892475\n        ],\n        \"semantic_type\": \"\",\n        \"description\": \"\"\n      }\n    },\n    {\n      \"column\": \"min\",\n      \"properties\": {\n        \"dtype\": \"number\",\n        \"std\": 6.331738236133035,\n        \"min\": 0.0,\n        \"max\": 21.0,\n        \"num_unique_values\": 2,\n        \"samples\": [\n          21.0,\n          0.0\n        ],\n        \"semantic_type\": \"\",\n        \"description\": \"\"\n      }\n    },\n    {\n      \"column\": \"25%\",\n      \"properties\": {\n        \"dtype\": \"number\",\n        \"std\": 1023.8182890772571,\n        \"min\": 0.0,\n        \"max\": 3400.0,\n        \"num_unique_values\": 6,\n        \"samples\": [\n          0.0,\n          0.0300962385\n        ],\n        \"semantic_type\": \"\",\n        \"description\": \"\"\n      }\n    },\n    {\n      \"column\": \"50%\",\n      \"properties\": {\n        \"dtype\": \"number\",\n        \"std\": 1626.3798240417289,\n        \"min\": 0.0,\n        \"max\": 5400.0,\n        \"num_unique_values\": 7,\n        \"samples\": [\n          0.0,\n          0.15442571049999995\n        ],\n        \"semantic_type\": \"\",\n        \"description\": \"\"\n      }\n    },\n    {\n      \"column\": \"75%\",\n      \"properties\": {\n        \"dtype\": \"number\",\n        \"std\": 2485.17423209943,\n        \"min\": 0.0,\n        \"max\": 8250.0,\n        \"num_unique_values\": 8,\n        \"samples\": [\n          0.5556513672500001,\n          11.0\n        ],\n        \"semantic_type\": \"\",\n        \"description\": \"\"\n      }\n    },\n    {\n      \"column\": \"max\",\n      \"properties\": {\n        \"dtype\": \"number\",\n        \"std\": 901072.7507626773,\n        \"min\": 1.0,\n        \"max\": 3008750.0,\n        \"num_unique_values\": 9,\n        \"samples\": [\n          32.0,\n          50708.0\n        ],\n        \"semantic_type\": \"\",\n        \"description\": \"\"\n      }\n    }\n  ]\n}"
            }
          },
          "metadata": {},
          "execution_count": 8
        }
      ],
      "source": [
        "data.describe().T"
      ]
    },
    {
      "cell_type": "markdown",
      "metadata": {
        "id": "uTdMVT1V7QLu"
      },
      "source": [
        "Следует отметить, что пропуски встречаются всего в двух столбцах: **MonthlyIncome** и **NumberOfDependents**. Пропуски в них логичнее всего заполнить 0."
      ]
    },
    {
      "cell_type": "code",
      "execution_count": 9,
      "metadata": {
        "id": "Cw89pmVv7xhm"
      },
      "outputs": [],
      "source": [
        "data.fillna(0., inplace=True)"
      ]
    },
    {
      "cell_type": "markdown",
      "metadata": {
        "id": "-yBUFdgY8Hg7"
      },
      "source": [
        "Наша задача спрогнозировать дефолт, поэтому **целевая переменная - наличие дефолта**. В нашем случае целевой признак **SeriousDlqin2yrs** - это наличие серьёзной просрочки по платежу за последние 2 года.\n",
        "\n",
        "Запишем столбец со значениями ключевой переменной в `target_values` и остальные данные запишем в `values`."
      ]
    },
    {
      "cell_type": "code",
      "execution_count": 10,
      "metadata": {
        "id": "mOXoNnCI8N6B"
      },
      "outputs": [],
      "source": [
        "target_values = data.iloc[:,0].values\n",
        "values = data.iloc[:,1:].values"
      ]
    },
    {
      "cell_type": "markdown",
      "metadata": {
        "id": "_d9Czc1Y_0fx"
      },
      "source": [
        "Нормализуем данные."
      ]
    },
    {
      "cell_type": "code",
      "execution_count": 11,
      "metadata": {
        "id": "m8DBJ5cB8fF5"
      },
      "outputs": [],
      "source": [
        "values = MinMaxScaler().fit_transform(values)"
      ]
    },
    {
      "cell_type": "markdown",
      "metadata": {
        "id": "2064KpfsArts"
      },
      "source": [
        "Наконец, **разделим набор данных на обучающую и тестовую выборки**."
      ]
    },
    {
      "cell_type": "code",
      "execution_count": 12,
      "metadata": {
        "id": "USdVZugXA0w5"
      },
      "outputs": [],
      "source": [
        "training_data, test_data, training_target_data, test_target_data = train_test_split(\n",
        "    values,\n",
        "    target_values,\n",
        "    test_size=0.2,\n",
        "    random_state=0\n",
        ")"
      ]
    },
    {
      "cell_type": "markdown",
      "metadata": {
        "id": "p7TDvJ43VyvP"
      },
      "source": [
        "## 3. Построение моделей"
      ]
    },
    {
      "cell_type": "markdown",
      "metadata": {
        "id": "Zk9RTrPnUTj9"
      },
      "source": [
        "### 3. A. Логистическая регрессия\n",
        "Построение начнём со статистических моделей: логистической регрессии и ансамбля деревьев решений. Первой будет **модель логистической регрессии**."
      ]
    },
    {
      "cell_type": "code",
      "execution_count": 13,
      "metadata": {
        "id": "nANsYXU7XMZF"
      },
      "outputs": [],
      "source": [
        "logistic_regression_model = linear_model.LogisticRegression(\n",
        "    max_iter=500\n",
        ")"
      ]
    },
    {
      "cell_type": "markdown",
      "metadata": {
        "id": "XDKC4yxQOy83"
      },
      "source": [
        "### 3. B. Случайный лес\n",
        "Далее **создадим модель случайного леса**. У него есть множество параметров, наиболее важными из которых являются:\n",
        "*   `n_estimators` - количество деревьев в лесу,\n",
        "*   `max_depth` - максимальная глубина у дерева,\n",
        "*   `min_samples_leaf` - максимальное число объектов, которые могут попасть в лист дерева.\n",
        "\n"
      ]
    },
    {
      "cell_type": "code",
      "execution_count": 14,
      "metadata": {
        "id": "0DOkijGcPZs8"
      },
      "outputs": [],
      "source": [
        "random_forest_model = ensemble.RandomForestClassifier(\n",
        "    n_estimators=50\n",
        ")"
      ]
    },
    {
      "cell_type": "markdown",
      "metadata": {
        "id": "_369MD99Pucx"
      },
      "source": [
        "### 3. C. Нейронная сеть\n",
        "Теперь переходим к **созданию нейронной сети**. Объявим скрытые слои и количество нейронов в каждом из них.\n"
      ]
    },
    {
      "cell_type": "code",
      "execution_count": 15,
      "metadata": {
        "id": "OdRUCtNfRIT5"
      },
      "outputs": [],
      "source": [
        "# Количество входных параметров\n",
        "in_neurons = training_data.shape[1]\n",
        "# Количество выходных данных\n",
        "out_neurons = 1\n",
        "\n",
        "# Объявление количества нейронов в каждом из слоёв\n",
        "hidden_layers = [100, 125, 100]"
      ]
    },
    {
      "cell_type": "markdown",
      "metadata": {
        "id": "bRmbloloU9d2"
      },
      "source": [
        "Объявим модель и добавим первый слой: `InputLayer`."
      ]
    },
    {
      "cell_type": "code",
      "execution_count": 16,
      "metadata": {
        "id": "CjVQw69nVAfN"
      },
      "outputs": [],
      "source": [
        "# Объявление модели\n",
        "neural_network = Sequential()\n",
        "\n",
        "# Добавление входного слоя\n",
        "neural_network.add(keras.layers.InputLayer(input_shape=(in_neurons,)))"
      ]
    },
    {
      "cell_type": "markdown",
      "metadata": {
        "id": "yQxx3XpPSw7s"
      },
      "source": [
        "В качестве функции активации для скрытых слоёв будем использовать **ReLU (Rectified Linear Unit)**. Она преобразует отрицательное входное значение в 0 и сохраняет его при положительном значении."
      ]
    },
    {
      "cell_type": "code",
      "execution_count": 17,
      "metadata": {
        "id": "X6JkzMuoTtcZ"
      },
      "outputs": [],
      "source": [
        "for hidden_layer in hidden_layers:\n",
        "  neural_network.add(Dense(units=hidden_layer, activation='relu'))"
      ]
    },
    {
      "cell_type": "markdown",
      "metadata": {
        "id": "hWUKRbSCXdD9"
      },
      "source": [
        "В выходном слое в качестве функции активации будем использовать **Sigmoid**. **Формула активации сигмоида**:\n",
        "\n",
        "*sigmoid(x) = 1 / (1 + exp(-x)).*\n",
        "\n",
        "Так как её выход находится в диапазоне от 0 до 1, она идеально подходит для выходного слоя, чтобы получить результат в виде вероятности для двоичной классификации.\n",
        "\n"
      ]
    },
    {
      "cell_type": "code",
      "execution_count": 18,
      "metadata": {
        "id": "u0Bv6-TgY0nn"
      },
      "outputs": [],
      "source": [
        "neural_network.add(Dense(units=out_neurons, activation='sigmoid'))"
      ]
    },
    {
      "cell_type": "markdown",
      "metadata": {
        "id": "K-zgBvTWb0kH"
      },
      "source": [
        "Проверим всё ли прошло успешно."
      ]
    },
    {
      "cell_type": "code",
      "execution_count": 19,
      "metadata": {
        "colab": {
          "base_uri": "https://localhost:8080/"
        },
        "id": "eq5UkPnXbyem",
        "outputId": "cb906340-8326-49f8-d319-1b801ed311be"
      },
      "outputs": [
        {
          "output_type": "stream",
          "name": "stdout",
          "text": [
            "Model: \"sequential\"\n",
            "_________________________________________________________________\n",
            " Layer (type)                Output Shape              Param #   \n",
            "=================================================================\n",
            " dense (Dense)               (None, 100)               1100      \n",
            "                                                                 \n",
            " dense_1 (Dense)             (None, 125)               12625     \n",
            "                                                                 \n",
            " dense_2 (Dense)             (None, 100)               12600     \n",
            "                                                                 \n",
            " dense_3 (Dense)             (None, 1)                 101       \n",
            "                                                                 \n",
            "=================================================================\n",
            "Total params: 26426 (103.23 KB)\n",
            "Trainable params: 26426 (103.23 KB)\n",
            "Non-trainable params: 0 (0.00 Byte)\n",
            "_________________________________________________________________\n",
            "None\n"
          ]
        }
      ],
      "source": [
        "print(neural_network.summary())"
      ]
    },
    {
      "cell_type": "markdown",
      "metadata": {
        "id": "YXhUfESxcv-M"
      },
      "source": [
        "**Скомпилируем объявленную модель.** Для этого будем использовать следующие параметры функции `compile`:\n",
        "*   `loss` - функция потерь;\n",
        "*   `optimizer` - оптимизатор алгоритма градиентного спуска;\n",
        "*   `metrics` - список метрик, которые будут посчитаны как во время обучения, так и во время тестирования модели.\n",
        "\n"
      ]
    },
    {
      "cell_type": "code",
      "execution_count": 20,
      "metadata": {
        "id": "QEUvLUEndc40"
      },
      "outputs": [],
      "source": [
        "neural_network.compile(\n",
        "    loss='binary_crossentropy',\n",
        "    optimizer=           'SGD',\n",
        "    metrics=      ['accuracy']\n",
        ")"
      ]
    },
    {
      "cell_type": "markdown",
      "metadata": {
        "id": "sKf_wX41fpJu"
      },
      "source": [
        "## 4. Обучение моделей"
      ]
    },
    {
      "cell_type": "markdown",
      "metadata": {
        "id": "qM6N_dRXf0HV"
      },
      "source": [
        "Для обучения статистических моделей используем метод `fit()`, в который в качестве параметров нужно передать обучающую выборку и столбец значений ключевой переменной (в нашем случае: `training_data` и `target_values`):"
      ]
    },
    {
      "cell_type": "code",
      "execution_count": 21,
      "metadata": {
        "colab": {
          "base_uri": "https://localhost:8080/",
          "height": 74
        },
        "id": "5iaTuW5xgdNv",
        "outputId": "24a21078-6f74-45f0-836c-2edf0b8bdf0d"
      },
      "outputs": [
        {
          "output_type": "execute_result",
          "data": {
            "text/plain": [
              "LogisticRegression(max_iter=500)"
            ],
            "text/html": [
              "<style>#sk-container-id-1 {color: black;background-color: white;}#sk-container-id-1 pre{padding: 0;}#sk-container-id-1 div.sk-toggleable {background-color: white;}#sk-container-id-1 label.sk-toggleable__label {cursor: pointer;display: block;width: 100%;margin-bottom: 0;padding: 0.3em;box-sizing: border-box;text-align: center;}#sk-container-id-1 label.sk-toggleable__label-arrow:before {content: \"▸\";float: left;margin-right: 0.25em;color: #696969;}#sk-container-id-1 label.sk-toggleable__label-arrow:hover:before {color: black;}#sk-container-id-1 div.sk-estimator:hover label.sk-toggleable__label-arrow:before {color: black;}#sk-container-id-1 div.sk-toggleable__content {max-height: 0;max-width: 0;overflow: hidden;text-align: left;background-color: #f0f8ff;}#sk-container-id-1 div.sk-toggleable__content pre {margin: 0.2em;color: black;border-radius: 0.25em;background-color: #f0f8ff;}#sk-container-id-1 input.sk-toggleable__control:checked~div.sk-toggleable__content {max-height: 200px;max-width: 100%;overflow: auto;}#sk-container-id-1 input.sk-toggleable__control:checked~label.sk-toggleable__label-arrow:before {content: \"▾\";}#sk-container-id-1 div.sk-estimator input.sk-toggleable__control:checked~label.sk-toggleable__label {background-color: #d4ebff;}#sk-container-id-1 div.sk-label input.sk-toggleable__control:checked~label.sk-toggleable__label {background-color: #d4ebff;}#sk-container-id-1 input.sk-hidden--visually {border: 0;clip: rect(1px 1px 1px 1px);clip: rect(1px, 1px, 1px, 1px);height: 1px;margin: -1px;overflow: hidden;padding: 0;position: absolute;width: 1px;}#sk-container-id-1 div.sk-estimator {font-family: monospace;background-color: #f0f8ff;border: 1px dotted black;border-radius: 0.25em;box-sizing: border-box;margin-bottom: 0.5em;}#sk-container-id-1 div.sk-estimator:hover {background-color: #d4ebff;}#sk-container-id-1 div.sk-parallel-item::after {content: \"\";width: 100%;border-bottom: 1px solid gray;flex-grow: 1;}#sk-container-id-1 div.sk-label:hover label.sk-toggleable__label {background-color: #d4ebff;}#sk-container-id-1 div.sk-serial::before {content: \"\";position: absolute;border-left: 1px solid gray;box-sizing: border-box;top: 0;bottom: 0;left: 50%;z-index: 0;}#sk-container-id-1 div.sk-serial {display: flex;flex-direction: column;align-items: center;background-color: white;padding-right: 0.2em;padding-left: 0.2em;position: relative;}#sk-container-id-1 div.sk-item {position: relative;z-index: 1;}#sk-container-id-1 div.sk-parallel {display: flex;align-items: stretch;justify-content: center;background-color: white;position: relative;}#sk-container-id-1 div.sk-item::before, #sk-container-id-1 div.sk-parallel-item::before {content: \"\";position: absolute;border-left: 1px solid gray;box-sizing: border-box;top: 0;bottom: 0;left: 50%;z-index: -1;}#sk-container-id-1 div.sk-parallel-item {display: flex;flex-direction: column;z-index: 1;position: relative;background-color: white;}#sk-container-id-1 div.sk-parallel-item:first-child::after {align-self: flex-end;width: 50%;}#sk-container-id-1 div.sk-parallel-item:last-child::after {align-self: flex-start;width: 50%;}#sk-container-id-1 div.sk-parallel-item:only-child::after {width: 0;}#sk-container-id-1 div.sk-dashed-wrapped {border: 1px dashed gray;margin: 0 0.4em 0.5em 0.4em;box-sizing: border-box;padding-bottom: 0.4em;background-color: white;}#sk-container-id-1 div.sk-label label {font-family: monospace;font-weight: bold;display: inline-block;line-height: 1.2em;}#sk-container-id-1 div.sk-label-container {text-align: center;}#sk-container-id-1 div.sk-container {/* jupyter's `normalize.less` sets `[hidden] { display: none; }` but bootstrap.min.css set `[hidden] { display: none !important; }` so we also need the `!important` here to be able to override the default hidden behavior on the sphinx rendered scikit-learn.org. See: https://github.com/scikit-learn/scikit-learn/issues/21755 */display: inline-block !important;position: relative;}#sk-container-id-1 div.sk-text-repr-fallback {display: none;}</style><div id=\"sk-container-id-1\" class=\"sk-top-container\"><div class=\"sk-text-repr-fallback\"><pre>LogisticRegression(max_iter=500)</pre><b>In a Jupyter environment, please rerun this cell to show the HTML representation or trust the notebook. <br />On GitHub, the HTML representation is unable to render, please try loading this page with nbviewer.org.</b></div><div class=\"sk-container\" hidden><div class=\"sk-item\"><div class=\"sk-estimator sk-toggleable\"><input class=\"sk-toggleable__control sk-hidden--visually\" id=\"sk-estimator-id-1\" type=\"checkbox\" checked><label for=\"sk-estimator-id-1\" class=\"sk-toggleable__label sk-toggleable__label-arrow\">LogisticRegression</label><div class=\"sk-toggleable__content\"><pre>LogisticRegression(max_iter=500)</pre></div></div></div></div></div>"
            ]
          },
          "metadata": {},
          "execution_count": 21
        }
      ],
      "source": [
        "logistic_regression_model.fit(training_data, training_target_data)"
      ]
    },
    {
      "cell_type": "code",
      "execution_count": 22,
      "metadata": {
        "colab": {
          "base_uri": "https://localhost:8080/",
          "height": 74
        },
        "id": "02r-tpnZhBla",
        "outputId": "5bbf37bf-87a2-46ed-ca8d-6cd84e208264"
      },
      "outputs": [
        {
          "output_type": "execute_result",
          "data": {
            "text/plain": [
              "RandomForestClassifier(n_estimators=50)"
            ],
            "text/html": [
              "<style>#sk-container-id-2 {color: black;background-color: white;}#sk-container-id-2 pre{padding: 0;}#sk-container-id-2 div.sk-toggleable {background-color: white;}#sk-container-id-2 label.sk-toggleable__label {cursor: pointer;display: block;width: 100%;margin-bottom: 0;padding: 0.3em;box-sizing: border-box;text-align: center;}#sk-container-id-2 label.sk-toggleable__label-arrow:before {content: \"▸\";float: left;margin-right: 0.25em;color: #696969;}#sk-container-id-2 label.sk-toggleable__label-arrow:hover:before {color: black;}#sk-container-id-2 div.sk-estimator:hover label.sk-toggleable__label-arrow:before {color: black;}#sk-container-id-2 div.sk-toggleable__content {max-height: 0;max-width: 0;overflow: hidden;text-align: left;background-color: #f0f8ff;}#sk-container-id-2 div.sk-toggleable__content pre {margin: 0.2em;color: black;border-radius: 0.25em;background-color: #f0f8ff;}#sk-container-id-2 input.sk-toggleable__control:checked~div.sk-toggleable__content {max-height: 200px;max-width: 100%;overflow: auto;}#sk-container-id-2 input.sk-toggleable__control:checked~label.sk-toggleable__label-arrow:before {content: \"▾\";}#sk-container-id-2 div.sk-estimator input.sk-toggleable__control:checked~label.sk-toggleable__label {background-color: #d4ebff;}#sk-container-id-2 div.sk-label input.sk-toggleable__control:checked~label.sk-toggleable__label {background-color: #d4ebff;}#sk-container-id-2 input.sk-hidden--visually {border: 0;clip: rect(1px 1px 1px 1px);clip: rect(1px, 1px, 1px, 1px);height: 1px;margin: -1px;overflow: hidden;padding: 0;position: absolute;width: 1px;}#sk-container-id-2 div.sk-estimator {font-family: monospace;background-color: #f0f8ff;border: 1px dotted black;border-radius: 0.25em;box-sizing: border-box;margin-bottom: 0.5em;}#sk-container-id-2 div.sk-estimator:hover {background-color: #d4ebff;}#sk-container-id-2 div.sk-parallel-item::after {content: \"\";width: 100%;border-bottom: 1px solid gray;flex-grow: 1;}#sk-container-id-2 div.sk-label:hover label.sk-toggleable__label {background-color: #d4ebff;}#sk-container-id-2 div.sk-serial::before {content: \"\";position: absolute;border-left: 1px solid gray;box-sizing: border-box;top: 0;bottom: 0;left: 50%;z-index: 0;}#sk-container-id-2 div.sk-serial {display: flex;flex-direction: column;align-items: center;background-color: white;padding-right: 0.2em;padding-left: 0.2em;position: relative;}#sk-container-id-2 div.sk-item {position: relative;z-index: 1;}#sk-container-id-2 div.sk-parallel {display: flex;align-items: stretch;justify-content: center;background-color: white;position: relative;}#sk-container-id-2 div.sk-item::before, #sk-container-id-2 div.sk-parallel-item::before {content: \"\";position: absolute;border-left: 1px solid gray;box-sizing: border-box;top: 0;bottom: 0;left: 50%;z-index: -1;}#sk-container-id-2 div.sk-parallel-item {display: flex;flex-direction: column;z-index: 1;position: relative;background-color: white;}#sk-container-id-2 div.sk-parallel-item:first-child::after {align-self: flex-end;width: 50%;}#sk-container-id-2 div.sk-parallel-item:last-child::after {align-self: flex-start;width: 50%;}#sk-container-id-2 div.sk-parallel-item:only-child::after {width: 0;}#sk-container-id-2 div.sk-dashed-wrapped {border: 1px dashed gray;margin: 0 0.4em 0.5em 0.4em;box-sizing: border-box;padding-bottom: 0.4em;background-color: white;}#sk-container-id-2 div.sk-label label {font-family: monospace;font-weight: bold;display: inline-block;line-height: 1.2em;}#sk-container-id-2 div.sk-label-container {text-align: center;}#sk-container-id-2 div.sk-container {/* jupyter's `normalize.less` sets `[hidden] { display: none; }` but bootstrap.min.css set `[hidden] { display: none !important; }` so we also need the `!important` here to be able to override the default hidden behavior on the sphinx rendered scikit-learn.org. See: https://github.com/scikit-learn/scikit-learn/issues/21755 */display: inline-block !important;position: relative;}#sk-container-id-2 div.sk-text-repr-fallback {display: none;}</style><div id=\"sk-container-id-2\" class=\"sk-top-container\"><div class=\"sk-text-repr-fallback\"><pre>RandomForestClassifier(n_estimators=50)</pre><b>In a Jupyter environment, please rerun this cell to show the HTML representation or trust the notebook. <br />On GitHub, the HTML representation is unable to render, please try loading this page with nbviewer.org.</b></div><div class=\"sk-container\" hidden><div class=\"sk-item\"><div class=\"sk-estimator sk-toggleable\"><input class=\"sk-toggleable__control sk-hidden--visually\" id=\"sk-estimator-id-2\" type=\"checkbox\" checked><label for=\"sk-estimator-id-2\" class=\"sk-toggleable__label sk-toggleable__label-arrow\">RandomForestClassifier</label><div class=\"sk-toggleable__content\"><pre>RandomForestClassifier(n_estimators=50)</pre></div></div></div></div></div>"
            ]
          },
          "metadata": {},
          "execution_count": 22
        }
      ],
      "source": [
        "random_forest_model.fit(training_data, training_target_data)"
      ]
    },
    {
      "cell_type": "markdown",
      "metadata": {
        "id": "xiCBleqrhJUh"
      },
      "source": [
        "Перейдем к обучению нейронной сети. Для этого, аналогично, используем метод `fit()`.\n",
        "\n",
        "Объявим `checkpoint` и будем сохранять состояния в `neural_network_history` для визуализации процесса обучения."
      ]
    },
    {
      "cell_type": "code",
      "execution_count": 23,
      "metadata": {
        "colab": {
          "base_uri": "https://localhost:8080/"
        },
        "id": "34i_CqbRhim3",
        "outputId": "83c99468-c99c-4258-f10a-6522278f7979"
      },
      "outputs": [
        {
          "output_type": "stream",
          "name": "stdout",
          "text": [
            "Epoch 1/100\n",
            "1250/1250 [==============================] - 5s 3ms/step - loss: 0.2787 - accuracy: 0.9324 - val_loss: 0.2420 - val_accuracy: 0.9331\n",
            "Epoch 2/100\n",
            "  87/1250 [=>............................] - ETA: 2s - loss: 0.2486 - accuracy: 0.9305"
          ]
        },
        {
          "output_type": "stream",
          "name": "stderr",
          "text": [
            "/usr/local/lib/python3.10/dist-packages/keras/src/engine/training.py:3103: UserWarning: You are saving your model as an HDF5 file via `model.save()`. This file format is considered legacy. We recommend using instead the native Keras format, e.g. `model.save('my_model.keras')`.\n",
            "  saving_api.save_model(\n"
          ]
        },
        {
          "output_type": "stream",
          "name": "stdout",
          "text": [
            "1250/1250 [==============================] - 4s 3ms/step - loss: 0.2412 - accuracy: 0.9331 - val_loss: 0.2409 - val_accuracy: 0.9331\n",
            "Epoch 3/100\n",
            "1250/1250 [==============================] - 4s 3ms/step - loss: 0.2402 - accuracy: 0.9331 - val_loss: 0.2400 - val_accuracy: 0.9331\n",
            "Epoch 4/100\n",
            "1250/1250 [==============================] - 4s 4ms/step - loss: 0.2393 - accuracy: 0.9331 - val_loss: 0.2390 - val_accuracy: 0.9331\n",
            "Epoch 5/100\n",
            "1250/1250 [==============================] - 3s 3ms/step - loss: 0.2383 - accuracy: 0.9331 - val_loss: 0.2382 - val_accuracy: 0.9331\n",
            "Epoch 6/100\n",
            "1250/1250 [==============================] - 3s 2ms/step - loss: 0.2374 - accuracy: 0.9331 - val_loss: 0.2375 - val_accuracy: 0.9331\n",
            "Epoch 7/100\n",
            "1250/1250 [==============================] - 3s 2ms/step - loss: 0.2367 - accuracy: 0.9331 - val_loss: 0.2372 - val_accuracy: 0.9331\n",
            "Epoch 8/100\n",
            "1250/1250 [==============================] - 4s 4ms/step - loss: 0.2362 - accuracy: 0.9331 - val_loss: 0.2365 - val_accuracy: 0.9331\n",
            "Epoch 9/100\n",
            "1250/1250 [==============================] - 3s 2ms/step - loss: 0.2358 - accuracy: 0.9331 - val_loss: 0.2361 - val_accuracy: 0.9331\n",
            "Epoch 10/100\n",
            "1250/1250 [==============================] - 3s 2ms/step - loss: 0.2354 - accuracy: 0.9331 - val_loss: 0.2359 - val_accuracy: 0.9331\n",
            "Epoch 11/100\n",
            "1250/1250 [==============================] - 3s 2ms/step - loss: 0.2351 - accuracy: 0.9331 - val_loss: 0.2356 - val_accuracy: 0.9331\n",
            "Epoch 12/100\n",
            "1250/1250 [==============================] - 5s 4ms/step - loss: 0.2349 - accuracy: 0.9331 - val_loss: 0.2354 - val_accuracy: 0.9331\n",
            "Epoch 13/100\n",
            "1250/1250 [==============================] - 3s 3ms/step - loss: 0.2347 - accuracy: 0.9331 - val_loss: 0.2352 - val_accuracy: 0.9331\n",
            "Epoch 14/100\n",
            "1250/1250 [==============================] - 3s 2ms/step - loss: 0.2345 - accuracy: 0.9331 - val_loss: 0.2351 - val_accuracy: 0.9331\n",
            "Epoch 15/100\n",
            "1250/1250 [==============================] - 3s 3ms/step - loss: 0.2343 - accuracy: 0.9331 - val_loss: 0.2348 - val_accuracy: 0.9332\n",
            "Epoch 16/100\n",
            "1250/1250 [==============================] - 5s 4ms/step - loss: 0.2341 - accuracy: 0.9331 - val_loss: 0.2348 - val_accuracy: 0.9333\n",
            "Epoch 17/100\n",
            "1250/1250 [==============================] - 3s 2ms/step - loss: 0.2340 - accuracy: 0.9332 - val_loss: 0.2346 - val_accuracy: 0.9333\n",
            "Epoch 18/100\n",
            "1250/1250 [==============================] - 3s 3ms/step - loss: 0.2338 - accuracy: 0.9332 - val_loss: 0.2344 - val_accuracy: 0.9333\n",
            "Epoch 19/100\n",
            "1250/1250 [==============================] - 3s 2ms/step - loss: 0.2336 - accuracy: 0.9332 - val_loss: 0.2342 - val_accuracy: 0.9333\n",
            "Epoch 20/100\n",
            "1250/1250 [==============================] - 4s 3ms/step - loss: 0.2334 - accuracy: 0.9332 - val_loss: 0.2339 - val_accuracy: 0.9333\n",
            "Epoch 21/100\n",
            "1250/1250 [==============================] - 3s 2ms/step - loss: 0.2332 - accuracy: 0.9332 - val_loss: 0.2337 - val_accuracy: 0.9333\n",
            "Epoch 22/100\n",
            "1250/1250 [==============================] - 3s 2ms/step - loss: 0.2329 - accuracy: 0.9332 - val_loss: 0.2338 - val_accuracy: 0.9333\n",
            "Epoch 23/100\n",
            "1250/1250 [==============================] - 3s 2ms/step - loss: 0.2327 - accuracy: 0.9332 - val_loss: 0.2334 - val_accuracy: 0.9333\n",
            "Epoch 24/100\n",
            "1250/1250 [==============================] - 4s 3ms/step - loss: 0.2324 - accuracy: 0.9332 - val_loss: 0.2330 - val_accuracy: 0.9333\n",
            "Epoch 25/100\n",
            "1250/1250 [==============================] - 3s 2ms/step - loss: 0.2322 - accuracy: 0.9332 - val_loss: 0.2327 - val_accuracy: 0.9333\n",
            "Epoch 26/100\n",
            "1250/1250 [==============================] - 3s 2ms/step - loss: 0.2318 - accuracy: 0.9332 - val_loss: 0.2324 - val_accuracy: 0.9333\n",
            "Epoch 27/100\n",
            "1250/1250 [==============================] - 3s 3ms/step - loss: 0.2315 - accuracy: 0.9332 - val_loss: 0.2323 - val_accuracy: 0.9333\n",
            "Epoch 28/100\n",
            "1250/1250 [==============================] - 4s 3ms/step - loss: 0.2311 - accuracy: 0.9332 - val_loss: 0.2317 - val_accuracy: 0.9333\n",
            "Epoch 29/100\n",
            "1250/1250 [==============================] - 4s 3ms/step - loss: 0.2307 - accuracy: 0.9332 - val_loss: 0.2315 - val_accuracy: 0.9333\n",
            "Epoch 30/100\n",
            "1250/1250 [==============================] - 3s 2ms/step - loss: 0.2303 - accuracy: 0.9332 - val_loss: 0.2309 - val_accuracy: 0.9333\n",
            "Epoch 31/100\n",
            "1250/1250 [==============================] - 3s 2ms/step - loss: 0.2298 - accuracy: 0.9332 - val_loss: 0.2303 - val_accuracy: 0.9333\n",
            "Epoch 32/100\n",
            "1250/1250 [==============================] - 3s 3ms/step - loss: 0.2292 - accuracy: 0.9332 - val_loss: 0.2299 - val_accuracy: 0.9333\n",
            "Epoch 33/100\n",
            "1250/1250 [==============================] - 4s 3ms/step - loss: 0.2286 - accuracy: 0.9332 - val_loss: 0.2292 - val_accuracy: 0.9333\n",
            "Epoch 34/100\n",
            "1250/1250 [==============================] - 3s 2ms/step - loss: 0.2279 - accuracy: 0.9332 - val_loss: 0.2290 - val_accuracy: 0.9333\n",
            "Epoch 35/100\n",
            "1250/1250 [==============================] - 3s 2ms/step - loss: 0.2270 - accuracy: 0.9332 - val_loss: 0.2279 - val_accuracy: 0.9333\n",
            "Epoch 36/100\n",
            "1250/1250 [==============================] - 3s 2ms/step - loss: 0.2262 - accuracy: 0.9332 - val_loss: 0.2266 - val_accuracy: 0.9333\n",
            "Epoch 37/100\n",
            "1250/1250 [==============================] - 5s 4ms/step - loss: 0.2252 - accuracy: 0.9332 - val_loss: 0.2256 - val_accuracy: 0.9333\n",
            "Epoch 38/100\n",
            "1250/1250 [==============================] - 3s 3ms/step - loss: 0.2240 - accuracy: 0.9332 - val_loss: 0.2244 - val_accuracy: 0.9333\n",
            "Epoch 39/100\n",
            "1250/1250 [==============================] - 3s 3ms/step - loss: 0.2227 - accuracy: 0.9332 - val_loss: 0.2234 - val_accuracy: 0.9333\n",
            "Epoch 40/100\n",
            "1250/1250 [==============================] - 3s 2ms/step - loss: 0.2213 - accuracy: 0.9332 - val_loss: 0.2216 - val_accuracy: 0.9333\n",
            "Epoch 41/100\n",
            "1250/1250 [==============================] - 4s 4ms/step - loss: 0.2197 - accuracy: 0.9332 - val_loss: 0.2201 - val_accuracy: 0.9333\n",
            "Epoch 42/100\n",
            "1250/1250 [==============================] - 3s 2ms/step - loss: 0.2181 - accuracy: 0.9332 - val_loss: 0.2182 - val_accuracy: 0.9333\n",
            "Epoch 43/100\n",
            "1250/1250 [==============================] - 3s 2ms/step - loss: 0.2163 - accuracy: 0.9332 - val_loss: 0.2182 - val_accuracy: 0.9333\n",
            "Epoch 44/100\n",
            "1250/1250 [==============================] - 3s 2ms/step - loss: 0.2144 - accuracy: 0.9332 - val_loss: 0.2160 - val_accuracy: 0.9333\n",
            "Epoch 45/100\n",
            "1250/1250 [==============================] - 4s 3ms/step - loss: 0.2126 - accuracy: 0.9332 - val_loss: 0.2133 - val_accuracy: 0.9333\n",
            "Epoch 46/100\n",
            "1250/1250 [==============================] - 3s 3ms/step - loss: 0.2110 - accuracy: 0.9332 - val_loss: 0.2111 - val_accuracy: 0.9333\n",
            "Epoch 47/100\n",
            "1250/1250 [==============================] - 3s 2ms/step - loss: 0.2091 - accuracy: 0.9332 - val_loss: 0.2125 - val_accuracy: 0.9333\n",
            "Epoch 48/100\n",
            "1250/1250 [==============================] - 3s 2ms/step - loss: 0.2073 - accuracy: 0.9332 - val_loss: 0.2168 - val_accuracy: 0.9334\n",
            "Epoch 49/100\n",
            "1250/1250 [==============================] - 4s 3ms/step - loss: 0.2058 - accuracy: 0.9332 - val_loss: 0.2080 - val_accuracy: 0.9334\n",
            "Epoch 50/100\n",
            "1250/1250 [==============================] - 3s 3ms/step - loss: 0.2046 - accuracy: 0.9335 - val_loss: 0.2055 - val_accuracy: 0.9340\n",
            "Epoch 51/100\n",
            "1250/1250 [==============================] - 3s 2ms/step - loss: 0.2032 - accuracy: 0.9338 - val_loss: 0.2067 - val_accuracy: 0.9340\n",
            "Epoch 52/100\n",
            "1250/1250 [==============================] - 3s 2ms/step - loss: 0.2023 - accuracy: 0.9343 - val_loss: 0.2038 - val_accuracy: 0.9353\n",
            "Epoch 53/100\n",
            "1250/1250 [==============================] - 3s 3ms/step - loss: 0.2016 - accuracy: 0.9348 - val_loss: 0.2018 - val_accuracy: 0.9349\n",
            "Epoch 54/100\n",
            "1250/1250 [==============================] - 4s 3ms/step - loss: 0.2004 - accuracy: 0.9352 - val_loss: 0.2030 - val_accuracy: 0.9353\n",
            "Epoch 55/100\n",
            "1250/1250 [==============================] - 3s 2ms/step - loss: 0.1997 - accuracy: 0.9355 - val_loss: 0.2052 - val_accuracy: 0.9352\n",
            "Epoch 56/100\n",
            "1250/1250 [==============================] - 3s 2ms/step - loss: 0.1994 - accuracy: 0.9353 - val_loss: 0.1987 - val_accuracy: 0.9356\n",
            "Epoch 57/100\n",
            "1250/1250 [==============================] - 3s 2ms/step - loss: 0.1990 - accuracy: 0.9355 - val_loss: 0.1987 - val_accuracy: 0.9355\n",
            "Epoch 58/100\n",
            "1250/1250 [==============================] - 4s 3ms/step - loss: 0.1985 - accuracy: 0.9357 - val_loss: 0.1983 - val_accuracy: 0.9354\n",
            "Epoch 59/100\n",
            "1250/1250 [==============================] - 3s 2ms/step - loss: 0.1985 - accuracy: 0.9359 - val_loss: 0.2393 - val_accuracy: 0.9309\n",
            "Epoch 60/100\n",
            "1250/1250 [==============================] - 3s 2ms/step - loss: 0.1983 - accuracy: 0.9353 - val_loss: 0.1981 - val_accuracy: 0.9359\n",
            "Epoch 61/100\n",
            "1250/1250 [==============================] - 3s 3ms/step - loss: 0.1977 - accuracy: 0.9356 - val_loss: 0.2012 - val_accuracy: 0.9351\n",
            "Epoch 62/100\n",
            "1250/1250 [==============================] - 4s 3ms/step - loss: 0.1980 - accuracy: 0.9354 - val_loss: 0.2091 - val_accuracy: 0.9362\n",
            "Epoch 63/100\n",
            "1250/1250 [==============================] - 3s 2ms/step - loss: 0.1977 - accuracy: 0.9360 - val_loss: 0.1963 - val_accuracy: 0.9362\n",
            "Epoch 64/100\n",
            "1250/1250 [==============================] - 3s 2ms/step - loss: 0.1973 - accuracy: 0.9359 - val_loss: 0.1992 - val_accuracy: 0.9348\n",
            "Epoch 65/100\n",
            "1250/1250 [==============================] - 4s 3ms/step - loss: 0.1967 - accuracy: 0.9355 - val_loss: 0.2112 - val_accuracy: 0.9338\n",
            "Epoch 66/100\n",
            "1250/1250 [==============================] - 5s 4ms/step - loss: 0.1977 - accuracy: 0.9357 - val_loss: 0.1987 - val_accuracy: 0.9363\n",
            "Epoch 67/100\n",
            "1250/1250 [==============================] - 3s 2ms/step - loss: 0.1968 - accuracy: 0.9358 - val_loss: 0.1951 - val_accuracy: 0.9357\n",
            "Epoch 68/100\n",
            "1250/1250 [==============================] - 3s 2ms/step - loss: 0.1969 - accuracy: 0.9361 - val_loss: 0.1959 - val_accuracy: 0.9360\n",
            "Epoch 69/100\n",
            "1250/1250 [==============================] - 3s 2ms/step - loss: 0.1967 - accuracy: 0.9359 - val_loss: 0.1953 - val_accuracy: 0.9361\n",
            "Epoch 70/100\n",
            "1250/1250 [==============================] - 4s 3ms/step - loss: 0.1962 - accuracy: 0.9360 - val_loss: 0.1977 - val_accuracy: 0.9362\n",
            "Epoch 71/100\n",
            "1250/1250 [==============================] - 4s 3ms/step - loss: 0.1960 - accuracy: 0.9361 - val_loss: 0.1965 - val_accuracy: 0.9358\n",
            "Epoch 72/100\n",
            "1250/1250 [==============================] - 3s 2ms/step - loss: 0.1962 - accuracy: 0.9358 - val_loss: 0.1967 - val_accuracy: 0.9362\n",
            "Epoch 73/100\n",
            "1250/1250 [==============================] - 3s 2ms/step - loss: 0.1962 - accuracy: 0.9359 - val_loss: 0.1949 - val_accuracy: 0.9366\n",
            "Epoch 74/100\n",
            "1250/1250 [==============================] - 3s 2ms/step - loss: 0.1956 - accuracy: 0.9358 - val_loss: 0.1988 - val_accuracy: 0.9366\n",
            "Epoch 75/100\n",
            "1250/1250 [==============================] - 4s 3ms/step - loss: 0.1959 - accuracy: 0.9360 - val_loss: 0.1942 - val_accuracy: 0.9360\n",
            "Epoch 76/100\n",
            "1250/1250 [==============================] - 3s 2ms/step - loss: 0.1948 - accuracy: 0.9357 - val_loss: 0.1942 - val_accuracy: 0.9365\n",
            "Epoch 77/100\n",
            "1250/1250 [==============================] - 3s 2ms/step - loss: 0.1954 - accuracy: 0.9361 - val_loss: 0.2002 - val_accuracy: 0.9363\n",
            "Epoch 78/100\n",
            "1250/1250 [==============================] - 3s 2ms/step - loss: 0.1958 - accuracy: 0.9359 - val_loss: 0.1965 - val_accuracy: 0.9365\n",
            "Epoch 79/100\n",
            "1250/1250 [==============================] - 4s 3ms/step - loss: 0.1946 - accuracy: 0.9363 - val_loss: 0.1998 - val_accuracy: 0.9351\n",
            "Epoch 80/100\n",
            "1250/1250 [==============================] - 4s 3ms/step - loss: 0.1953 - accuracy: 0.9357 - val_loss: 0.1970 - val_accuracy: 0.9370\n",
            "Epoch 81/100\n",
            "1250/1250 [==============================] - 3s 2ms/step - loss: 0.1951 - accuracy: 0.9358 - val_loss: 0.1944 - val_accuracy: 0.9366\n",
            "Epoch 82/100\n",
            "1250/1250 [==============================] - 3s 2ms/step - loss: 0.1951 - accuracy: 0.9356 - val_loss: 0.1933 - val_accuracy: 0.9362\n",
            "Epoch 83/100\n",
            "1250/1250 [==============================] - 3s 3ms/step - loss: 0.1950 - accuracy: 0.9362 - val_loss: 0.1929 - val_accuracy: 0.9359\n",
            "Epoch 84/100\n",
            "1250/1250 [==============================] - 4s 3ms/step - loss: 0.1945 - accuracy: 0.9361 - val_loss: 0.2101 - val_accuracy: 0.9349\n",
            "Epoch 85/100\n",
            "1250/1250 [==============================] - 3s 2ms/step - loss: 0.1944 - accuracy: 0.9361 - val_loss: 0.1969 - val_accuracy: 0.9369\n",
            "Epoch 86/100\n",
            "1250/1250 [==============================] - 3s 2ms/step - loss: 0.1944 - accuracy: 0.9358 - val_loss: 0.1938 - val_accuracy: 0.9356\n",
            "Epoch 87/100\n",
            "1250/1250 [==============================] - 3s 2ms/step - loss: 0.1947 - accuracy: 0.9362 - val_loss: 0.1926 - val_accuracy: 0.9365\n",
            "Epoch 88/100\n",
            "1250/1250 [==============================] - 4s 4ms/step - loss: 0.1938 - accuracy: 0.9363 - val_loss: 0.1959 - val_accuracy: 0.9354\n",
            "Epoch 89/100\n",
            "1250/1250 [==============================] - 3s 2ms/step - loss: 0.1938 - accuracy: 0.9363 - val_loss: 0.2032 - val_accuracy: 0.9366\n",
            "Epoch 90/100\n",
            "1250/1250 [==============================] - 3s 2ms/step - loss: 0.1948 - accuracy: 0.9359 - val_loss: 0.1933 - val_accuracy: 0.9365\n",
            "Epoch 91/100\n",
            "1250/1250 [==============================] - 3s 2ms/step - loss: 0.1937 - accuracy: 0.9361 - val_loss: 0.1959 - val_accuracy: 0.9355\n",
            "Epoch 92/100\n",
            "1250/1250 [==============================] - 4s 3ms/step - loss: 0.1944 - accuracy: 0.9360 - val_loss: 0.1925 - val_accuracy: 0.9360\n",
            "Epoch 93/100\n",
            "1250/1250 [==============================] - 4s 3ms/step - loss: 0.1941 - accuracy: 0.9360 - val_loss: 0.1970 - val_accuracy: 0.9367\n",
            "Epoch 94/100\n",
            "1250/1250 [==============================] - 3s 3ms/step - loss: 0.1935 - accuracy: 0.9364 - val_loss: 0.1976 - val_accuracy: 0.9363\n",
            "Epoch 95/100\n",
            "1250/1250 [==============================] - 3s 2ms/step - loss: 0.1934 - accuracy: 0.9364 - val_loss: 0.1922 - val_accuracy: 0.9361\n",
            "Epoch 96/100\n",
            "1250/1250 [==============================] - 3s 3ms/step - loss: 0.1938 - accuracy: 0.9365 - val_loss: 0.2004 - val_accuracy: 0.9369\n",
            "Epoch 97/100\n",
            "1250/1250 [==============================] - 4s 3ms/step - loss: 0.1936 - accuracy: 0.9362 - val_loss: 0.1922 - val_accuracy: 0.9366\n",
            "Epoch 98/100\n",
            "1250/1250 [==============================] - 3s 2ms/step - loss: 0.1939 - accuracy: 0.9366 - val_loss: 0.1991 - val_accuracy: 0.9369\n",
            "Epoch 99/100\n",
            "1250/1250 [==============================] - 3s 2ms/step - loss: 0.1938 - accuracy: 0.9362 - val_loss: 0.1927 - val_accuracy: 0.9358\n",
            "Epoch 100/100\n",
            "1250/1250 [==============================] - 3s 2ms/step - loss: 0.1935 - accuracy: 0.9364 - val_loss: 0.1921 - val_accuracy: 0.9367\n"
          ]
        }
      ],
      "source": [
        "checkpoint = keras.callbacks.ModelCheckpoint(\n",
        "    filepath='model_weights.hdf5',\n",
        "    monitor=            'val_acc',\n",
        "    verbose=                    0,\n",
        "    save_weights_only=      False,\n",
        "    save_best_only=         False,\n",
        "    mode=                   'max'\n",
        ")\n",
        "\n",
        "neural_network_history = neural_network.fit(\n",
        "    training_data,\n",
        "    training_target_data,\n",
        "    validation_data=(test_data, test_target_data),\n",
        "    batch_size=64,\n",
        "    callbacks=[checkpoint],\n",
        "    initial_epoch=0,\n",
        "    epochs=100\n",
        ")"
      ]
    },
    {
      "cell_type": "markdown",
      "metadata": {
        "id": "NxFQ1TSUFL9l"
      },
      "source": [
        "В результате получаем:"
      ]
    },
    {
      "cell_type": "code",
      "execution_count": 24,
      "metadata": {
        "id": "LsQ7DFKaFyBi",
        "colab": {
          "base_uri": "https://localhost:8080/"
        },
        "outputId": "413063f8-2403-4237-cad5-e6458b321811"
      },
      "outputs": [
        {
          "output_type": "stream",
          "name": "stdout",
          "text": [
            "Final Loss:     0.19212022423744202\n",
            "Final Accuracy: 0.9366999864578247\n"
          ]
        }
      ],
      "source": [
        "final_loss, final_accuracy = neural_network.evaluate(\n",
        "    test_data,\n",
        "    test_target_data,\n",
        "    verbose=0\n",
        ")\n",
        "\n",
        "print('Final Loss:    ',     final_loss)\n",
        "print('Final Accuracy:', final_accuracy)"
      ]
    },
    {
      "cell_type": "markdown",
      "metadata": {
        "id": "bM2TyzwRGzgH"
      },
      "source": [
        "## 5. Анализ результатов"
      ]
    },
    {
      "cell_type": "markdown",
      "metadata": {
        "id": "kzRbDg8uIL-W"
      },
      "source": [
        "Сначала получим прогнозы с помощью полученных моделей. Для этого для обеих моделей запустим метод `predict()`."
      ]
    },
    {
      "cell_type": "code",
      "execution_count": 25,
      "metadata": {
        "id": "Lt6pi4y9hY2x"
      },
      "outputs": [],
      "source": [
        "logistic_regression_prediction = logistic_regression_model.predict(test_data)"
      ]
    },
    {
      "cell_type": "code",
      "execution_count": 26,
      "metadata": {
        "id": "OgIlgNIwhZ00"
      },
      "outputs": [],
      "source": [
        "random_forest_prediction = random_forest_model.predict(test_data)"
      ]
    },
    {
      "cell_type": "code",
      "execution_count": 27,
      "metadata": {
        "id": "zAumcijhjmYi",
        "colab": {
          "base_uri": "https://localhost:8080/"
        },
        "outputId": "52b8f2bd-f2de-41d6-f5a4-0ff6703880ae"
      },
      "outputs": [
        {
          "output_type": "stream",
          "name": "stdout",
          "text": [
            "625/625 [==============================] - 1s 2ms/step\n"
          ]
        }
      ],
      "source": [
        "neural_network_proba = neural_network.predict(test_data)\n",
        "neural_network_prediction = (neural_network_proba > 0.3)"
      ]
    },
    {
      "cell_type": "markdown",
      "metadata": {
        "id": "b5TZ9qm9jVD8"
      },
      "source": [
        "Теперь, с помощью метода `accuracy_score() ` **рассчитаем точность** работы каждой модели, сравнив полученные результаты с настоящими."
      ]
    },
    {
      "cell_type": "code",
      "execution_count": 28,
      "metadata": {
        "id": "Q947qDeFlc9Y",
        "colab": {
          "base_uri": "https://localhost:8080/"
        },
        "outputId": "493099db-30a3-4ce0-8ab1-93ae5573e491"
      },
      "outputs": [
        {
          "output_type": "stream",
          "name": "stdout",
          "text": [
            "Accuracy score:\n",
            "1. Logistic regression: 0.93325\n",
            "2. Random forest:       0.98625\n",
            "3. Neural network:      0.93185\n"
          ]
        }
      ],
      "source": [
        "print('Accuracy score:')\n",
        "print('1. Logistic regression:', accuracy_score(test_target_data, logistic_regression_prediction))\n",
        "print('2. Random forest:      ', accuracy_score(test_target_data,       random_forest_prediction))\n",
        "print('3. Neural network:     ', accuracy_score(test_target_data,      neural_network_prediction))"
      ]
    },
    {
      "cell_type": "markdown",
      "metadata": {
        "id": "BG5aAN3LoW2A"
      },
      "source": [
        "**Рассмотрим таблицу сопряжённости** каждой модели."
      ]
    },
    {
      "cell_type": "code",
      "execution_count": 29,
      "metadata": {
        "id": "lpdEUxJHncMT",
        "colab": {
          "base_uri": "https://localhost:8080/",
          "height": 112
        },
        "outputId": "b3e0b275-c219-4a22-f0a8-40e908bda5c5"
      },
      "outputs": [
        {
          "output_type": "execute_result",
          "data": {
            "text/plain": [
              "       0   1\n",
              "0  18645  18\n",
              "1   1317  20"
            ],
            "text/html": [
              "\n",
              "  <div id=\"df-62f1391b-bbd9-4eae-bb2d-8e609555096b\" class=\"colab-df-container\">\n",
              "    <div>\n",
              "<style scoped>\n",
              "    .dataframe tbody tr th:only-of-type {\n",
              "        vertical-align: middle;\n",
              "    }\n",
              "\n",
              "    .dataframe tbody tr th {\n",
              "        vertical-align: top;\n",
              "    }\n",
              "\n",
              "    .dataframe thead th {\n",
              "        text-align: right;\n",
              "    }\n",
              "</style>\n",
              "<table border=\"1\" class=\"dataframe\">\n",
              "  <thead>\n",
              "    <tr style=\"text-align: right;\">\n",
              "      <th></th>\n",
              "      <th>0</th>\n",
              "      <th>1</th>\n",
              "    </tr>\n",
              "  </thead>\n",
              "  <tbody>\n",
              "    <tr>\n",
              "      <th>0</th>\n",
              "      <td>18645</td>\n",
              "      <td>18</td>\n",
              "    </tr>\n",
              "    <tr>\n",
              "      <th>1</th>\n",
              "      <td>1317</td>\n",
              "      <td>20</td>\n",
              "    </tr>\n",
              "  </tbody>\n",
              "</table>\n",
              "</div>\n",
              "    <div class=\"colab-df-buttons\">\n",
              "\n",
              "  <div class=\"colab-df-container\">\n",
              "    <button class=\"colab-df-convert\" onclick=\"convertToInteractive('df-62f1391b-bbd9-4eae-bb2d-8e609555096b')\"\n",
              "            title=\"Convert this dataframe to an interactive table.\"\n",
              "            style=\"display:none;\">\n",
              "\n",
              "  <svg xmlns=\"http://www.w3.org/2000/svg\" height=\"24px\" viewBox=\"0 -960 960 960\">\n",
              "    <path d=\"M120-120v-720h720v720H120Zm60-500h600v-160H180v160Zm220 220h160v-160H400v160Zm0 220h160v-160H400v160ZM180-400h160v-160H180v160Zm440 0h160v-160H620v160ZM180-180h160v-160H180v160Zm440 0h160v-160H620v160Z\"/>\n",
              "  </svg>\n",
              "    </button>\n",
              "\n",
              "  <style>\n",
              "    .colab-df-container {\n",
              "      display:flex;\n",
              "      gap: 12px;\n",
              "    }\n",
              "\n",
              "    .colab-df-convert {\n",
              "      background-color: #E8F0FE;\n",
              "      border: none;\n",
              "      border-radius: 50%;\n",
              "      cursor: pointer;\n",
              "      display: none;\n",
              "      fill: #1967D2;\n",
              "      height: 32px;\n",
              "      padding: 0 0 0 0;\n",
              "      width: 32px;\n",
              "    }\n",
              "\n",
              "    .colab-df-convert:hover {\n",
              "      background-color: #E2EBFA;\n",
              "      box-shadow: 0px 1px 2px rgba(60, 64, 67, 0.3), 0px 1px 3px 1px rgba(60, 64, 67, 0.15);\n",
              "      fill: #174EA6;\n",
              "    }\n",
              "\n",
              "    .colab-df-buttons div {\n",
              "      margin-bottom: 4px;\n",
              "    }\n",
              "\n",
              "    [theme=dark] .colab-df-convert {\n",
              "      background-color: #3B4455;\n",
              "      fill: #D2E3FC;\n",
              "    }\n",
              "\n",
              "    [theme=dark] .colab-df-convert:hover {\n",
              "      background-color: #434B5C;\n",
              "      box-shadow: 0px 1px 3px 1px rgba(0, 0, 0, 0.15);\n",
              "      filter: drop-shadow(0px 1px 2px rgba(0, 0, 0, 0.3));\n",
              "      fill: #FFFFFF;\n",
              "    }\n",
              "  </style>\n",
              "\n",
              "    <script>\n",
              "      const buttonEl =\n",
              "        document.querySelector('#df-62f1391b-bbd9-4eae-bb2d-8e609555096b button.colab-df-convert');\n",
              "      buttonEl.style.display =\n",
              "        google.colab.kernel.accessAllowed ? 'block' : 'none';\n",
              "\n",
              "      async function convertToInteractive(key) {\n",
              "        const element = document.querySelector('#df-62f1391b-bbd9-4eae-bb2d-8e609555096b');\n",
              "        const dataTable =\n",
              "          await google.colab.kernel.invokeFunction('convertToInteractive',\n",
              "                                                    [key], {});\n",
              "        if (!dataTable) return;\n",
              "\n",
              "        const docLinkHtml = 'Like what you see? Visit the ' +\n",
              "          '<a target=\"_blank\" href=https://colab.research.google.com/notebooks/data_table.ipynb>data table notebook</a>'\n",
              "          + ' to learn more about interactive tables.';\n",
              "        element.innerHTML = '';\n",
              "        dataTable['output_type'] = 'display_data';\n",
              "        await google.colab.output.renderOutput(dataTable, element);\n",
              "        const docLink = document.createElement('div');\n",
              "        docLink.innerHTML = docLinkHtml;\n",
              "        element.appendChild(docLink);\n",
              "      }\n",
              "    </script>\n",
              "  </div>\n",
              "\n",
              "\n",
              "<div id=\"df-374b3db9-2a72-464a-9347-22fdb1e20114\">\n",
              "  <button class=\"colab-df-quickchart\" onclick=\"quickchart('df-374b3db9-2a72-464a-9347-22fdb1e20114')\"\n",
              "            title=\"Suggest charts\"\n",
              "            style=\"display:none;\">\n",
              "\n",
              "<svg xmlns=\"http://www.w3.org/2000/svg\" height=\"24px\"viewBox=\"0 0 24 24\"\n",
              "     width=\"24px\">\n",
              "    <g>\n",
              "        <path d=\"M19 3H5c-1.1 0-2 .9-2 2v14c0 1.1.9 2 2 2h14c1.1 0 2-.9 2-2V5c0-1.1-.9-2-2-2zM9 17H7v-7h2v7zm4 0h-2V7h2v10zm4 0h-2v-4h2v4z\"/>\n",
              "    </g>\n",
              "</svg>\n",
              "  </button>\n",
              "\n",
              "<style>\n",
              "  .colab-df-quickchart {\n",
              "      --bg-color: #E8F0FE;\n",
              "      --fill-color: #1967D2;\n",
              "      --hover-bg-color: #E2EBFA;\n",
              "      --hover-fill-color: #174EA6;\n",
              "      --disabled-fill-color: #AAA;\n",
              "      --disabled-bg-color: #DDD;\n",
              "  }\n",
              "\n",
              "  [theme=dark] .colab-df-quickchart {\n",
              "      --bg-color: #3B4455;\n",
              "      --fill-color: #D2E3FC;\n",
              "      --hover-bg-color: #434B5C;\n",
              "      --hover-fill-color: #FFFFFF;\n",
              "      --disabled-bg-color: #3B4455;\n",
              "      --disabled-fill-color: #666;\n",
              "  }\n",
              "\n",
              "  .colab-df-quickchart {\n",
              "    background-color: var(--bg-color);\n",
              "    border: none;\n",
              "    border-radius: 50%;\n",
              "    cursor: pointer;\n",
              "    display: none;\n",
              "    fill: var(--fill-color);\n",
              "    height: 32px;\n",
              "    padding: 0;\n",
              "    width: 32px;\n",
              "  }\n",
              "\n",
              "  .colab-df-quickchart:hover {\n",
              "    background-color: var(--hover-bg-color);\n",
              "    box-shadow: 0 1px 2px rgba(60, 64, 67, 0.3), 0 1px 3px 1px rgba(60, 64, 67, 0.15);\n",
              "    fill: var(--button-hover-fill-color);\n",
              "  }\n",
              "\n",
              "  .colab-df-quickchart-complete:disabled,\n",
              "  .colab-df-quickchart-complete:disabled:hover {\n",
              "    background-color: var(--disabled-bg-color);\n",
              "    fill: var(--disabled-fill-color);\n",
              "    box-shadow: none;\n",
              "  }\n",
              "\n",
              "  .colab-df-spinner {\n",
              "    border: 2px solid var(--fill-color);\n",
              "    border-color: transparent;\n",
              "    border-bottom-color: var(--fill-color);\n",
              "    animation:\n",
              "      spin 1s steps(1) infinite;\n",
              "  }\n",
              "\n",
              "  @keyframes spin {\n",
              "    0% {\n",
              "      border-color: transparent;\n",
              "      border-bottom-color: var(--fill-color);\n",
              "      border-left-color: var(--fill-color);\n",
              "    }\n",
              "    20% {\n",
              "      border-color: transparent;\n",
              "      border-left-color: var(--fill-color);\n",
              "      border-top-color: var(--fill-color);\n",
              "    }\n",
              "    30% {\n",
              "      border-color: transparent;\n",
              "      border-left-color: var(--fill-color);\n",
              "      border-top-color: var(--fill-color);\n",
              "      border-right-color: var(--fill-color);\n",
              "    }\n",
              "    40% {\n",
              "      border-color: transparent;\n",
              "      border-right-color: var(--fill-color);\n",
              "      border-top-color: var(--fill-color);\n",
              "    }\n",
              "    60% {\n",
              "      border-color: transparent;\n",
              "      border-right-color: var(--fill-color);\n",
              "    }\n",
              "    80% {\n",
              "      border-color: transparent;\n",
              "      border-right-color: var(--fill-color);\n",
              "      border-bottom-color: var(--fill-color);\n",
              "    }\n",
              "    90% {\n",
              "      border-color: transparent;\n",
              "      border-bottom-color: var(--fill-color);\n",
              "    }\n",
              "  }\n",
              "</style>\n",
              "\n",
              "  <script>\n",
              "    async function quickchart(key) {\n",
              "      const quickchartButtonEl =\n",
              "        document.querySelector('#' + key + ' button');\n",
              "      quickchartButtonEl.disabled = true;  // To prevent multiple clicks.\n",
              "      quickchartButtonEl.classList.add('colab-df-spinner');\n",
              "      try {\n",
              "        const charts = await google.colab.kernel.invokeFunction(\n",
              "            'suggestCharts', [key], {});\n",
              "      } catch (error) {\n",
              "        console.error('Error during call to suggestCharts:', error);\n",
              "      }\n",
              "      quickchartButtonEl.classList.remove('colab-df-spinner');\n",
              "      quickchartButtonEl.classList.add('colab-df-quickchart-complete');\n",
              "    }\n",
              "    (() => {\n",
              "      let quickchartButtonEl =\n",
              "        document.querySelector('#df-374b3db9-2a72-464a-9347-22fdb1e20114 button');\n",
              "      quickchartButtonEl.style.display =\n",
              "        google.colab.kernel.accessAllowed ? 'block' : 'none';\n",
              "    })();\n",
              "  </script>\n",
              "</div>\n",
              "    </div>\n",
              "  </div>\n"
            ],
            "application/vnd.google.colaboratory.intrinsic+json": {
              "type": "dataframe",
              "variable_name": "logistic_regression_confusion_matrix",
              "summary": "{\n  \"name\": \"logistic_regression_confusion_matrix\",\n  \"rows\": 2,\n  \"fields\": [\n    {\n      \"column\": 0,\n      \"properties\": {\n        \"dtype\": \"number\",\n        \"std\": 12252,\n        \"min\": 1317,\n        \"max\": 18645,\n        \"num_unique_values\": 2,\n        \"samples\": [\n          1317,\n          18645\n        ],\n        \"semantic_type\": \"\",\n        \"description\": \"\"\n      }\n    },\n    {\n      \"column\": 1,\n      \"properties\": {\n        \"dtype\": \"number\",\n        \"std\": 1,\n        \"min\": 18,\n        \"max\": 20,\n        \"num_unique_values\": 2,\n        \"samples\": [\n          20,\n          18\n        ],\n        \"semantic_type\": \"\",\n        \"description\": \"\"\n      }\n    }\n  ]\n}"
            }
          },
          "metadata": {},
          "execution_count": 29
        }
      ],
      "source": [
        "# Построение таблицы споряжённости для модели\n",
        "# логистической регрессии\n",
        "logistic_regression_confusion_matrix = confusion_matrix(\n",
        "    test_target_data,\n",
        "    logistic_regression_prediction\n",
        ")\n",
        "\n",
        "logistic_regression_confusion_matrix = pd.DataFrame(\n",
        "    logistic_regression_confusion_matrix\n",
        ")\n",
        "\n",
        "logistic_regression_confusion_matrix"
      ]
    },
    {
      "cell_type": "code",
      "execution_count": 30,
      "metadata": {
        "id": "IxV2qtdvp2Wt",
        "colab": {
          "base_uri": "https://localhost:8080/",
          "height": 112
        },
        "outputId": "0dd29ef1-e431-45c8-80f3-4180a53795fc"
      },
      "outputs": [
        {
          "output_type": "execute_result",
          "data": {
            "text/plain": [
              "       0     1\n",
              "0  18609    54\n",
              "1    221  1116"
            ],
            "text/html": [
              "\n",
              "  <div id=\"df-10c1c887-988c-4614-ae84-a582164b60fd\" class=\"colab-df-container\">\n",
              "    <div>\n",
              "<style scoped>\n",
              "    .dataframe tbody tr th:only-of-type {\n",
              "        vertical-align: middle;\n",
              "    }\n",
              "\n",
              "    .dataframe tbody tr th {\n",
              "        vertical-align: top;\n",
              "    }\n",
              "\n",
              "    .dataframe thead th {\n",
              "        text-align: right;\n",
              "    }\n",
              "</style>\n",
              "<table border=\"1\" class=\"dataframe\">\n",
              "  <thead>\n",
              "    <tr style=\"text-align: right;\">\n",
              "      <th></th>\n",
              "      <th>0</th>\n",
              "      <th>1</th>\n",
              "    </tr>\n",
              "  </thead>\n",
              "  <tbody>\n",
              "    <tr>\n",
              "      <th>0</th>\n",
              "      <td>18609</td>\n",
              "      <td>54</td>\n",
              "    </tr>\n",
              "    <tr>\n",
              "      <th>1</th>\n",
              "      <td>221</td>\n",
              "      <td>1116</td>\n",
              "    </tr>\n",
              "  </tbody>\n",
              "</table>\n",
              "</div>\n",
              "    <div class=\"colab-df-buttons\">\n",
              "\n",
              "  <div class=\"colab-df-container\">\n",
              "    <button class=\"colab-df-convert\" onclick=\"convertToInteractive('df-10c1c887-988c-4614-ae84-a582164b60fd')\"\n",
              "            title=\"Convert this dataframe to an interactive table.\"\n",
              "            style=\"display:none;\">\n",
              "\n",
              "  <svg xmlns=\"http://www.w3.org/2000/svg\" height=\"24px\" viewBox=\"0 -960 960 960\">\n",
              "    <path d=\"M120-120v-720h720v720H120Zm60-500h600v-160H180v160Zm220 220h160v-160H400v160Zm0 220h160v-160H400v160ZM180-400h160v-160H180v160Zm440 0h160v-160H620v160ZM180-180h160v-160H180v160Zm440 0h160v-160H620v160Z\"/>\n",
              "  </svg>\n",
              "    </button>\n",
              "\n",
              "  <style>\n",
              "    .colab-df-container {\n",
              "      display:flex;\n",
              "      gap: 12px;\n",
              "    }\n",
              "\n",
              "    .colab-df-convert {\n",
              "      background-color: #E8F0FE;\n",
              "      border: none;\n",
              "      border-radius: 50%;\n",
              "      cursor: pointer;\n",
              "      display: none;\n",
              "      fill: #1967D2;\n",
              "      height: 32px;\n",
              "      padding: 0 0 0 0;\n",
              "      width: 32px;\n",
              "    }\n",
              "\n",
              "    .colab-df-convert:hover {\n",
              "      background-color: #E2EBFA;\n",
              "      box-shadow: 0px 1px 2px rgba(60, 64, 67, 0.3), 0px 1px 3px 1px rgba(60, 64, 67, 0.15);\n",
              "      fill: #174EA6;\n",
              "    }\n",
              "\n",
              "    .colab-df-buttons div {\n",
              "      margin-bottom: 4px;\n",
              "    }\n",
              "\n",
              "    [theme=dark] .colab-df-convert {\n",
              "      background-color: #3B4455;\n",
              "      fill: #D2E3FC;\n",
              "    }\n",
              "\n",
              "    [theme=dark] .colab-df-convert:hover {\n",
              "      background-color: #434B5C;\n",
              "      box-shadow: 0px 1px 3px 1px rgba(0, 0, 0, 0.15);\n",
              "      filter: drop-shadow(0px 1px 2px rgba(0, 0, 0, 0.3));\n",
              "      fill: #FFFFFF;\n",
              "    }\n",
              "  </style>\n",
              "\n",
              "    <script>\n",
              "      const buttonEl =\n",
              "        document.querySelector('#df-10c1c887-988c-4614-ae84-a582164b60fd button.colab-df-convert');\n",
              "      buttonEl.style.display =\n",
              "        google.colab.kernel.accessAllowed ? 'block' : 'none';\n",
              "\n",
              "      async function convertToInteractive(key) {\n",
              "        const element = document.querySelector('#df-10c1c887-988c-4614-ae84-a582164b60fd');\n",
              "        const dataTable =\n",
              "          await google.colab.kernel.invokeFunction('convertToInteractive',\n",
              "                                                    [key], {});\n",
              "        if (!dataTable) return;\n",
              "\n",
              "        const docLinkHtml = 'Like what you see? Visit the ' +\n",
              "          '<a target=\"_blank\" href=https://colab.research.google.com/notebooks/data_table.ipynb>data table notebook</a>'\n",
              "          + ' to learn more about interactive tables.';\n",
              "        element.innerHTML = '';\n",
              "        dataTable['output_type'] = 'display_data';\n",
              "        await google.colab.output.renderOutput(dataTable, element);\n",
              "        const docLink = document.createElement('div');\n",
              "        docLink.innerHTML = docLinkHtml;\n",
              "        element.appendChild(docLink);\n",
              "      }\n",
              "    </script>\n",
              "  </div>\n",
              "\n",
              "\n",
              "<div id=\"df-0462c463-3ed0-4d6f-b626-93430832ef84\">\n",
              "  <button class=\"colab-df-quickchart\" onclick=\"quickchart('df-0462c463-3ed0-4d6f-b626-93430832ef84')\"\n",
              "            title=\"Suggest charts\"\n",
              "            style=\"display:none;\">\n",
              "\n",
              "<svg xmlns=\"http://www.w3.org/2000/svg\" height=\"24px\"viewBox=\"0 0 24 24\"\n",
              "     width=\"24px\">\n",
              "    <g>\n",
              "        <path d=\"M19 3H5c-1.1 0-2 .9-2 2v14c0 1.1.9 2 2 2h14c1.1 0 2-.9 2-2V5c0-1.1-.9-2-2-2zM9 17H7v-7h2v7zm4 0h-2V7h2v10zm4 0h-2v-4h2v4z\"/>\n",
              "    </g>\n",
              "</svg>\n",
              "  </button>\n",
              "\n",
              "<style>\n",
              "  .colab-df-quickchart {\n",
              "      --bg-color: #E8F0FE;\n",
              "      --fill-color: #1967D2;\n",
              "      --hover-bg-color: #E2EBFA;\n",
              "      --hover-fill-color: #174EA6;\n",
              "      --disabled-fill-color: #AAA;\n",
              "      --disabled-bg-color: #DDD;\n",
              "  }\n",
              "\n",
              "  [theme=dark] .colab-df-quickchart {\n",
              "      --bg-color: #3B4455;\n",
              "      --fill-color: #D2E3FC;\n",
              "      --hover-bg-color: #434B5C;\n",
              "      --hover-fill-color: #FFFFFF;\n",
              "      --disabled-bg-color: #3B4455;\n",
              "      --disabled-fill-color: #666;\n",
              "  }\n",
              "\n",
              "  .colab-df-quickchart {\n",
              "    background-color: var(--bg-color);\n",
              "    border: none;\n",
              "    border-radius: 50%;\n",
              "    cursor: pointer;\n",
              "    display: none;\n",
              "    fill: var(--fill-color);\n",
              "    height: 32px;\n",
              "    padding: 0;\n",
              "    width: 32px;\n",
              "  }\n",
              "\n",
              "  .colab-df-quickchart:hover {\n",
              "    background-color: var(--hover-bg-color);\n",
              "    box-shadow: 0 1px 2px rgba(60, 64, 67, 0.3), 0 1px 3px 1px rgba(60, 64, 67, 0.15);\n",
              "    fill: var(--button-hover-fill-color);\n",
              "  }\n",
              "\n",
              "  .colab-df-quickchart-complete:disabled,\n",
              "  .colab-df-quickchart-complete:disabled:hover {\n",
              "    background-color: var(--disabled-bg-color);\n",
              "    fill: var(--disabled-fill-color);\n",
              "    box-shadow: none;\n",
              "  }\n",
              "\n",
              "  .colab-df-spinner {\n",
              "    border: 2px solid var(--fill-color);\n",
              "    border-color: transparent;\n",
              "    border-bottom-color: var(--fill-color);\n",
              "    animation:\n",
              "      spin 1s steps(1) infinite;\n",
              "  }\n",
              "\n",
              "  @keyframes spin {\n",
              "    0% {\n",
              "      border-color: transparent;\n",
              "      border-bottom-color: var(--fill-color);\n",
              "      border-left-color: var(--fill-color);\n",
              "    }\n",
              "    20% {\n",
              "      border-color: transparent;\n",
              "      border-left-color: var(--fill-color);\n",
              "      border-top-color: var(--fill-color);\n",
              "    }\n",
              "    30% {\n",
              "      border-color: transparent;\n",
              "      border-left-color: var(--fill-color);\n",
              "      border-top-color: var(--fill-color);\n",
              "      border-right-color: var(--fill-color);\n",
              "    }\n",
              "    40% {\n",
              "      border-color: transparent;\n",
              "      border-right-color: var(--fill-color);\n",
              "      border-top-color: var(--fill-color);\n",
              "    }\n",
              "    60% {\n",
              "      border-color: transparent;\n",
              "      border-right-color: var(--fill-color);\n",
              "    }\n",
              "    80% {\n",
              "      border-color: transparent;\n",
              "      border-right-color: var(--fill-color);\n",
              "      border-bottom-color: var(--fill-color);\n",
              "    }\n",
              "    90% {\n",
              "      border-color: transparent;\n",
              "      border-bottom-color: var(--fill-color);\n",
              "    }\n",
              "  }\n",
              "</style>\n",
              "\n",
              "  <script>\n",
              "    async function quickchart(key) {\n",
              "      const quickchartButtonEl =\n",
              "        document.querySelector('#' + key + ' button');\n",
              "      quickchartButtonEl.disabled = true;  // To prevent multiple clicks.\n",
              "      quickchartButtonEl.classList.add('colab-df-spinner');\n",
              "      try {\n",
              "        const charts = await google.colab.kernel.invokeFunction(\n",
              "            'suggestCharts', [key], {});\n",
              "      } catch (error) {\n",
              "        console.error('Error during call to suggestCharts:', error);\n",
              "      }\n",
              "      quickchartButtonEl.classList.remove('colab-df-spinner');\n",
              "      quickchartButtonEl.classList.add('colab-df-quickchart-complete');\n",
              "    }\n",
              "    (() => {\n",
              "      let quickchartButtonEl =\n",
              "        document.querySelector('#df-0462c463-3ed0-4d6f-b626-93430832ef84 button');\n",
              "      quickchartButtonEl.style.display =\n",
              "        google.colab.kernel.accessAllowed ? 'block' : 'none';\n",
              "    })();\n",
              "  </script>\n",
              "</div>\n",
              "    </div>\n",
              "  </div>\n"
            ],
            "application/vnd.google.colaboratory.intrinsic+json": {
              "type": "dataframe",
              "variable_name": "random_forest_confusion_matrix",
              "summary": "{\n  \"name\": \"random_forest_confusion_matrix\",\n  \"rows\": 2,\n  \"fields\": [\n    {\n      \"column\": 0,\n      \"properties\": {\n        \"dtype\": \"number\",\n        \"std\": 13002,\n        \"min\": 221,\n        \"max\": 18609,\n        \"num_unique_values\": 2,\n        \"samples\": [\n          221,\n          18609\n        ],\n        \"semantic_type\": \"\",\n        \"description\": \"\"\n      }\n    },\n    {\n      \"column\": 1,\n      \"properties\": {\n        \"dtype\": \"number\",\n        \"std\": 750,\n        \"min\": 54,\n        \"max\": 1116,\n        \"num_unique_values\": 2,\n        \"samples\": [\n          1116,\n          54\n        ],\n        \"semantic_type\": \"\",\n        \"description\": \"\"\n      }\n    }\n  ]\n}"
            }
          },
          "metadata": {},
          "execution_count": 30
        }
      ],
      "source": [
        "# Построение таблицы споряжённости для модели\n",
        "# случайного леса\n",
        "random_forest_confusion_matrix = confusion_matrix(\n",
        "    test_target_data,\n",
        "    random_forest_prediction\n",
        ")\n",
        "\n",
        "random_forest_confusion_matrix = pd.DataFrame(\n",
        "    random_forest_confusion_matrix\n",
        ")\n",
        "\n",
        "random_forest_confusion_matrix"
      ]
    },
    {
      "cell_type": "code",
      "execution_count": 31,
      "metadata": {
        "id": "l0q660OIoqv8",
        "colab": {
          "base_uri": "https://localhost:8080/",
          "height": 112
        },
        "outputId": "b5b6cf57-b894-4013-a2b6-031aa1d95eaa"
      },
      "outputs": [
        {
          "output_type": "execute_result",
          "data": {
            "text/plain": [
              "       0    1\n",
              "0  18231  432\n",
              "1    931  406"
            ],
            "text/html": [
              "\n",
              "  <div id=\"df-64c6da3a-301a-4796-92bd-cefe761409d2\" class=\"colab-df-container\">\n",
              "    <div>\n",
              "<style scoped>\n",
              "    .dataframe tbody tr th:only-of-type {\n",
              "        vertical-align: middle;\n",
              "    }\n",
              "\n",
              "    .dataframe tbody tr th {\n",
              "        vertical-align: top;\n",
              "    }\n",
              "\n",
              "    .dataframe thead th {\n",
              "        text-align: right;\n",
              "    }\n",
              "</style>\n",
              "<table border=\"1\" class=\"dataframe\">\n",
              "  <thead>\n",
              "    <tr style=\"text-align: right;\">\n",
              "      <th></th>\n",
              "      <th>0</th>\n",
              "      <th>1</th>\n",
              "    </tr>\n",
              "  </thead>\n",
              "  <tbody>\n",
              "    <tr>\n",
              "      <th>0</th>\n",
              "      <td>18231</td>\n",
              "      <td>432</td>\n",
              "    </tr>\n",
              "    <tr>\n",
              "      <th>1</th>\n",
              "      <td>931</td>\n",
              "      <td>406</td>\n",
              "    </tr>\n",
              "  </tbody>\n",
              "</table>\n",
              "</div>\n",
              "    <div class=\"colab-df-buttons\">\n",
              "\n",
              "  <div class=\"colab-df-container\">\n",
              "    <button class=\"colab-df-convert\" onclick=\"convertToInteractive('df-64c6da3a-301a-4796-92bd-cefe761409d2')\"\n",
              "            title=\"Convert this dataframe to an interactive table.\"\n",
              "            style=\"display:none;\">\n",
              "\n",
              "  <svg xmlns=\"http://www.w3.org/2000/svg\" height=\"24px\" viewBox=\"0 -960 960 960\">\n",
              "    <path d=\"M120-120v-720h720v720H120Zm60-500h600v-160H180v160Zm220 220h160v-160H400v160Zm0 220h160v-160H400v160ZM180-400h160v-160H180v160Zm440 0h160v-160H620v160ZM180-180h160v-160H180v160Zm440 0h160v-160H620v160Z\"/>\n",
              "  </svg>\n",
              "    </button>\n",
              "\n",
              "  <style>\n",
              "    .colab-df-container {\n",
              "      display:flex;\n",
              "      gap: 12px;\n",
              "    }\n",
              "\n",
              "    .colab-df-convert {\n",
              "      background-color: #E8F0FE;\n",
              "      border: none;\n",
              "      border-radius: 50%;\n",
              "      cursor: pointer;\n",
              "      display: none;\n",
              "      fill: #1967D2;\n",
              "      height: 32px;\n",
              "      padding: 0 0 0 0;\n",
              "      width: 32px;\n",
              "    }\n",
              "\n",
              "    .colab-df-convert:hover {\n",
              "      background-color: #E2EBFA;\n",
              "      box-shadow: 0px 1px 2px rgba(60, 64, 67, 0.3), 0px 1px 3px 1px rgba(60, 64, 67, 0.15);\n",
              "      fill: #174EA6;\n",
              "    }\n",
              "\n",
              "    .colab-df-buttons div {\n",
              "      margin-bottom: 4px;\n",
              "    }\n",
              "\n",
              "    [theme=dark] .colab-df-convert {\n",
              "      background-color: #3B4455;\n",
              "      fill: #D2E3FC;\n",
              "    }\n",
              "\n",
              "    [theme=dark] .colab-df-convert:hover {\n",
              "      background-color: #434B5C;\n",
              "      box-shadow: 0px 1px 3px 1px rgba(0, 0, 0, 0.15);\n",
              "      filter: drop-shadow(0px 1px 2px rgba(0, 0, 0, 0.3));\n",
              "      fill: #FFFFFF;\n",
              "    }\n",
              "  </style>\n",
              "\n",
              "    <script>\n",
              "      const buttonEl =\n",
              "        document.querySelector('#df-64c6da3a-301a-4796-92bd-cefe761409d2 button.colab-df-convert');\n",
              "      buttonEl.style.display =\n",
              "        google.colab.kernel.accessAllowed ? 'block' : 'none';\n",
              "\n",
              "      async function convertToInteractive(key) {\n",
              "        const element = document.querySelector('#df-64c6da3a-301a-4796-92bd-cefe761409d2');\n",
              "        const dataTable =\n",
              "          await google.colab.kernel.invokeFunction('convertToInteractive',\n",
              "                                                    [key], {});\n",
              "        if (!dataTable) return;\n",
              "\n",
              "        const docLinkHtml = 'Like what you see? Visit the ' +\n",
              "          '<a target=\"_blank\" href=https://colab.research.google.com/notebooks/data_table.ipynb>data table notebook</a>'\n",
              "          + ' to learn more about interactive tables.';\n",
              "        element.innerHTML = '';\n",
              "        dataTable['output_type'] = 'display_data';\n",
              "        await google.colab.output.renderOutput(dataTable, element);\n",
              "        const docLink = document.createElement('div');\n",
              "        docLink.innerHTML = docLinkHtml;\n",
              "        element.appendChild(docLink);\n",
              "      }\n",
              "    </script>\n",
              "  </div>\n",
              "\n",
              "\n",
              "<div id=\"df-77e53497-44da-406b-b274-b082d12f751c\">\n",
              "  <button class=\"colab-df-quickchart\" onclick=\"quickchart('df-77e53497-44da-406b-b274-b082d12f751c')\"\n",
              "            title=\"Suggest charts\"\n",
              "            style=\"display:none;\">\n",
              "\n",
              "<svg xmlns=\"http://www.w3.org/2000/svg\" height=\"24px\"viewBox=\"0 0 24 24\"\n",
              "     width=\"24px\">\n",
              "    <g>\n",
              "        <path d=\"M19 3H5c-1.1 0-2 .9-2 2v14c0 1.1.9 2 2 2h14c1.1 0 2-.9 2-2V5c0-1.1-.9-2-2-2zM9 17H7v-7h2v7zm4 0h-2V7h2v10zm4 0h-2v-4h2v4z\"/>\n",
              "    </g>\n",
              "</svg>\n",
              "  </button>\n",
              "\n",
              "<style>\n",
              "  .colab-df-quickchart {\n",
              "      --bg-color: #E8F0FE;\n",
              "      --fill-color: #1967D2;\n",
              "      --hover-bg-color: #E2EBFA;\n",
              "      --hover-fill-color: #174EA6;\n",
              "      --disabled-fill-color: #AAA;\n",
              "      --disabled-bg-color: #DDD;\n",
              "  }\n",
              "\n",
              "  [theme=dark] .colab-df-quickchart {\n",
              "      --bg-color: #3B4455;\n",
              "      --fill-color: #D2E3FC;\n",
              "      --hover-bg-color: #434B5C;\n",
              "      --hover-fill-color: #FFFFFF;\n",
              "      --disabled-bg-color: #3B4455;\n",
              "      --disabled-fill-color: #666;\n",
              "  }\n",
              "\n",
              "  .colab-df-quickchart {\n",
              "    background-color: var(--bg-color);\n",
              "    border: none;\n",
              "    border-radius: 50%;\n",
              "    cursor: pointer;\n",
              "    display: none;\n",
              "    fill: var(--fill-color);\n",
              "    height: 32px;\n",
              "    padding: 0;\n",
              "    width: 32px;\n",
              "  }\n",
              "\n",
              "  .colab-df-quickchart:hover {\n",
              "    background-color: var(--hover-bg-color);\n",
              "    box-shadow: 0 1px 2px rgba(60, 64, 67, 0.3), 0 1px 3px 1px rgba(60, 64, 67, 0.15);\n",
              "    fill: var(--button-hover-fill-color);\n",
              "  }\n",
              "\n",
              "  .colab-df-quickchart-complete:disabled,\n",
              "  .colab-df-quickchart-complete:disabled:hover {\n",
              "    background-color: var(--disabled-bg-color);\n",
              "    fill: var(--disabled-fill-color);\n",
              "    box-shadow: none;\n",
              "  }\n",
              "\n",
              "  .colab-df-spinner {\n",
              "    border: 2px solid var(--fill-color);\n",
              "    border-color: transparent;\n",
              "    border-bottom-color: var(--fill-color);\n",
              "    animation:\n",
              "      spin 1s steps(1) infinite;\n",
              "  }\n",
              "\n",
              "  @keyframes spin {\n",
              "    0% {\n",
              "      border-color: transparent;\n",
              "      border-bottom-color: var(--fill-color);\n",
              "      border-left-color: var(--fill-color);\n",
              "    }\n",
              "    20% {\n",
              "      border-color: transparent;\n",
              "      border-left-color: var(--fill-color);\n",
              "      border-top-color: var(--fill-color);\n",
              "    }\n",
              "    30% {\n",
              "      border-color: transparent;\n",
              "      border-left-color: var(--fill-color);\n",
              "      border-top-color: var(--fill-color);\n",
              "      border-right-color: var(--fill-color);\n",
              "    }\n",
              "    40% {\n",
              "      border-color: transparent;\n",
              "      border-right-color: var(--fill-color);\n",
              "      border-top-color: var(--fill-color);\n",
              "    }\n",
              "    60% {\n",
              "      border-color: transparent;\n",
              "      border-right-color: var(--fill-color);\n",
              "    }\n",
              "    80% {\n",
              "      border-color: transparent;\n",
              "      border-right-color: var(--fill-color);\n",
              "      border-bottom-color: var(--fill-color);\n",
              "    }\n",
              "    90% {\n",
              "      border-color: transparent;\n",
              "      border-bottom-color: var(--fill-color);\n",
              "    }\n",
              "  }\n",
              "</style>\n",
              "\n",
              "  <script>\n",
              "    async function quickchart(key) {\n",
              "      const quickchartButtonEl =\n",
              "        document.querySelector('#' + key + ' button');\n",
              "      quickchartButtonEl.disabled = true;  // To prevent multiple clicks.\n",
              "      quickchartButtonEl.classList.add('colab-df-spinner');\n",
              "      try {\n",
              "        const charts = await google.colab.kernel.invokeFunction(\n",
              "            'suggestCharts', [key], {});\n",
              "      } catch (error) {\n",
              "        console.error('Error during call to suggestCharts:', error);\n",
              "      }\n",
              "      quickchartButtonEl.classList.remove('colab-df-spinner');\n",
              "      quickchartButtonEl.classList.add('colab-df-quickchart-complete');\n",
              "    }\n",
              "    (() => {\n",
              "      let quickchartButtonEl =\n",
              "        document.querySelector('#df-77e53497-44da-406b-b274-b082d12f751c button');\n",
              "      quickchartButtonEl.style.display =\n",
              "        google.colab.kernel.accessAllowed ? 'block' : 'none';\n",
              "    })();\n",
              "  </script>\n",
              "</div>\n",
              "    </div>\n",
              "  </div>\n"
            ],
            "application/vnd.google.colaboratory.intrinsic+json": {
              "type": "dataframe",
              "variable_name": "neural_network_confusion_matrix",
              "summary": "{\n  \"name\": \"neural_network_confusion_matrix\",\n  \"rows\": 2,\n  \"fields\": [\n    {\n      \"column\": 0,\n      \"properties\": {\n        \"dtype\": \"number\",\n        \"std\": 12232,\n        \"min\": 931,\n        \"max\": 18231,\n        \"num_unique_values\": 2,\n        \"samples\": [\n          931,\n          18231\n        ],\n        \"semantic_type\": \"\",\n        \"description\": \"\"\n      }\n    },\n    {\n      \"column\": 1,\n      \"properties\": {\n        \"dtype\": \"number\",\n        \"std\": 18,\n        \"min\": 406,\n        \"max\": 432,\n        \"num_unique_values\": 2,\n        \"samples\": [\n          406,\n          432\n        ],\n        \"semantic_type\": \"\",\n        \"description\": \"\"\n      }\n    }\n  ]\n}"
            }
          },
          "metadata": {},
          "execution_count": 31
        }
      ],
      "source": [
        "# Построение таблицы споряжённости для модели\n",
        "# нейронной сети\n",
        "neural_network_confusion_matrix = confusion_matrix(\n",
        "    test_target_data,\n",
        "    neural_network_prediction\n",
        ")\n",
        "\n",
        "neural_network_confusion_matrix = pd.DataFrame(\n",
        "    neural_network_confusion_matrix\n",
        ")\n",
        "\n",
        "neural_network_confusion_matrix"
      ]
    },
    {
      "cell_type": "markdown",
      "metadata": {
        "id": "Dtxx78kDretB"
      },
      "source": [
        "Следует обратить внимание, что **модели логистической регрессии и нейронной сети склонны ошибочно определять \"плохого\" клиента как \"хорошего\"**. Построим, для наглядности, диаграммы для обеих моделей."
      ]
    },
    {
      "cell_type": "code",
      "execution_count": 32,
      "metadata": {
        "id": "qLZtxXwnsbvK",
        "colab": {
          "base_uri": "https://localhost:8080/",
          "height": 428
        },
        "outputId": "dba1ec58-878e-4f1a-d1dc-ebf62a00fc13"
      },
      "outputs": [
        {
          "output_type": "display_data",
          "data": {
            "text/plain": [
              "<Figure size 640x480 with 1 Axes>"
            ],
            "image/png": "[encoded data removed]"
          },
          "metadata": {}
        }
      ],
      "source": [
        "plt.pie(logistic_regression_confusion_matrix.iloc[1],\n",
        "        colors=['r', 'g'], wedgeprops=dict(width=0.5))\n",
        "\n",
        "plt.legend(['Клиенты ошибочно идентифицированные как \"хорошие\"',\n",
        "            'Верно спрогнозированный дефолт'], prop={'size': 8})\n",
        "\n",
        "plt.title('Логистическая регрессия')\n",
        "\n",
        "plt.show()"
      ]
    },
    {
      "cell_type": "code",
      "execution_count": 33,
      "metadata": {
        "id": "DLEFp0SywTwj",
        "colab": {
          "base_uri": "https://localhost:8080/",
          "height": 428
        },
        "outputId": "ac49a5bf-3dac-409c-9646-288a6bc87650"
      },
      "outputs": [
        {
          "output_type": "display_data",
          "data": {
            "text/plain": [
              "<Figure size 640x480 with 1 Axes>"
            ],
            "image/png": "[encoded data removed]"
          },
          "metadata": {}
        }
      ],
      "source": [
        "plt.pie(neural_network_confusion_matrix.iloc[1],\n",
        "        colors=['r', 'g'], wedgeprops=dict(width=0.5))\n",
        "\n",
        "plt.legend(['Клиенты ошибочно идентифицированные как \"хорошие\"',\n",
        "            'Верно спрогнозированный дефолт'], prop={'size': 8})\n",
        "\n",
        "plt.title('Нейронная сеть')\n",
        "\n",
        "plt.show()"
      ]
    },
    {
      "cell_type": "markdown",
      "metadata": {
        "id": "2xPd48Sowcvu"
      },
      "source": [
        "Скорее всего, данная проблема вызвана тем, что в обучающей выборке \"хороших\" клиентов много больше чем \"плохих\". Несмотря на это, модель случайного леса показала очень хороший результат. Визуализируем и его."
      ]
    },
    {
      "cell_type": "code",
      "execution_count": 34,
      "metadata": {
        "id": "zE9CnbmLxM1y",
        "colab": {
          "base_uri": "https://localhost:8080/",
          "height": 428
        },
        "outputId": "826085b1-5616-45c3-a143-0f0af728b793"
      },
      "outputs": [
        {
          "output_type": "display_data",
          "data": {
            "text/plain": [
              "<Figure size 640x480 with 1 Axes>"
            ],
            "image/png": "[encoded data removed]"
          },
          "metadata": {}
        }
      ],
      "source": [
        "plt.pie(random_forest_confusion_matrix.iloc[1],\n",
        "        colors=['r', 'g'], wedgeprops=dict(width=0.5))\n",
        "\n",
        "plt.legend(['Клиенты ошибочно идентифицированные как \"хорошие\"',\n",
        "            'Верно спрогнозированный дефолт'], prop={'size': 8})\n",
        "\n",
        "plt.title('Случайный лес')\n",
        "\n",
        "plt.show()"
      ]
    },
    {
      "cell_type": "markdown",
      "metadata": {
        "id": "qEwQ9vs2ytQr"
      },
      "source": [
        "Далее сравним результаты работы моделей с помощью **ROC-метрики**. Для этого, сначала, вместо прогноза меток классов у статистических моделей получим с помощью метода `predict_proba()` метки вероятности принадлежности к классам."
      ]
    },
    {
      "cell_type": "code",
      "execution_count": 35,
      "metadata": {
        "id": "0wjaMFc7zOeC"
      },
      "outputs": [],
      "source": [
        "logistic_regression_proba = logistic_regression_model.predict_proba(test_data)[:,1]"
      ]
    },
    {
      "cell_type": "code",
      "execution_count": 36,
      "metadata": {
        "id": "yZG5Cis02Wu9"
      },
      "outputs": [],
      "source": [
        "random_forest_proba = random_forest_model.predict_proba(test_data)[:,1]"
      ]
    },
    {
      "cell_type": "markdown",
      "metadata": {
        "id": "WxRnpafn2i4M"
      },
      "source": [
        "Функция `roc_curve()` из **scikit-learn** позволяет получить координаты точек ROC кривой, а также значения порога **threshold**, при котором достигается соответствующие значения метрик **FPR** и **TPR**.\n",
        "\n",
        "На вход функции `roc_curve()` необходимо передать два аргумента:\n",
        "* истинные значения меток - `test_values`;\n",
        "* вероятности, предсказанные моделью.\n",
        "\n",
        "Начнём с модели логистической регрессии."
      ]
    },
    {
      "cell_type": "code",
      "execution_count": 37,
      "metadata": {
        "id": "3H3zlEYI28l-",
        "colab": {
          "base_uri": "https://localhost:8080/"
        },
        "outputId": "c1be3275-46f9-4d7b-ba8e-4938be5d0014"
      },
      "outputs": [
        {
          "output_type": "stream",
          "name": "stdout",
          "text": [
            "Площадь под ROC-кривой: 0.6662909517713925\n"
          ]
        }
      ],
      "source": [
        "FPR, TPR, threshold = roc_curve(test_target_data, logistic_regression_proba)\n",
        "\n",
        "print(\n",
        "    'Площадь под ROC-кривой:',\n",
        "    roc_auc_score(test_target_data, logistic_regression_proba)\n",
        ")"
      ]
    },
    {
      "cell_type": "markdown",
      "metadata": {
        "id": "pMS1zWBC7sfn"
      },
      "source": [
        "Объявим функцию, которая будет строить ROC-кривую."
      ]
    },
    {
      "cell_type": "code",
      "execution_count": 38,
      "metadata": {
        "id": "5qNiyp5h7p5v"
      },
      "outputs": [],
      "source": [
        "def plot_ROC(FPR, TPR, threshold, title):\n",
        "    # создаём график\n",
        "    plt.figure(figsize=(5, 5))\n",
        "\n",
        "    # строим кривую\n",
        "    plt.plot(FPR, TPR, label='Сглаженные значения ROC-AUC')\n",
        "\n",
        "    # кривая, соответствующая случайному угадыванию\n",
        "    plt.plot([0, 1], [0, 1], color='k', lw=2, linestyle=':',\n",
        "            label='Модель, выдающая случайное значение')\n",
        "\n",
        "    plt.title(title)\n",
        "    plt.xlabel('False Positive Rate')\n",
        "    plt.ylabel('True Positive Rate')\n",
        "\n",
        "    plt.fill_between(FPR, TPR, step=\"mid\", alpha=0.4,\n",
        "                    label='Площадь под кривой (ROC-AUC)')\n",
        "    plt.legend()\n",
        "    plt.show()"
      ]
    },
    {
      "cell_type": "markdown",
      "metadata": {
        "id": "wUVQ9tW688VN"
      },
      "source": [
        "Построим кривую для модели линейной регрессии."
      ]
    },
    {
      "cell_type": "code",
      "execution_count": 39,
      "metadata": {
        "id": "jylmkzZx9B0L",
        "colab": {
          "base_uri": "https://localhost:8080/",
          "height": 487
        },
        "outputId": "8efbd749-8977-4084-bc2f-4ecdd166d2f8"
      },
      "outputs": [
        {
          "output_type": "display_data",
          "data": {
            "text/plain": [
              "<Figure size 500x500 with 1 Axes>"
            ],
            "image/png": "[encoded data removed]"
          },
          "metadata": {}
        }
      ],
      "source": [
        "plot_ROC(FPR, TPR, threshold, 'ROC [logistic regression model]')"
      ]
    },
    {
      "cell_type": "markdown",
      "metadata": {
        "id": "2SPBTgsX8OGu"
      },
      "source": [
        "Повторим те же действия для остальных моделей.\n"
      ]
    },
    {
      "cell_type": "code",
      "execution_count": 40,
      "metadata": {
        "id": "uy39s3Mc8SUF",
        "colab": {
          "base_uri": "https://localhost:8080/"
        },
        "outputId": "d885c616-9af1-4ee6-c6d5-91e82ce5bc28"
      },
      "outputs": [
        {
          "output_type": "stream",
          "name": "stdout",
          "text": [
            "Площадь под ROC-кривой: 0.9741335824152766\n"
          ]
        }
      ],
      "source": [
        "# Для модели случайного леса\n",
        "FPR, TPR, threshold = roc_curve(test_target_data, random_forest_proba)\n",
        "\n",
        "print(\n",
        "    'Площадь под ROC-кривой:',\n",
        "    roc_auc_score(test_target_data, random_forest_proba)\n",
        ")"
      ]
    },
    {
      "cell_type": "code",
      "execution_count": 41,
      "metadata": {
        "id": "TdDaYhayjBpl",
        "colab": {
          "base_uri": "https://localhost:8080/",
          "height": 487
        },
        "outputId": "00d47b4c-c6e0-4b45-e919-a31c788af320"
      },
      "outputs": [
        {
          "output_type": "display_data",
          "data": {
            "text/plain": [
              "<Figure size 500x500 with 1 Axes>"
            ],
            "image/png": "[encoded data removed]"
          },
          "metadata": {}
        }
      ],
      "source": [
        "plot_ROC(FPR, TPR, threshold, 'ROC [random forest model]')"
      ]
    },
    {
      "cell_type": "code",
      "execution_count": 42,
      "metadata": {
        "id": "UsGK1T6z-Chu",
        "colab": {
          "base_uri": "https://localhost:8080/"
        },
        "outputId": "c9f94651-77ae-4626-d32e-e23b46a7a30c"
      },
      "outputs": [
        {
          "output_type": "stream",
          "name": "stdout",
          "text": [
            "Площадь под ROC-кривой: 0.8212662124984937\n"
          ]
        }
      ],
      "source": [
        "# Для модели нейронной сети\n",
        "FPR, TPR, threshold = roc_curve(test_target_data, neural_network_proba)\n",
        "\n",
        "print(\n",
        "    'Площадь под ROC-кривой:',\n",
        "    roc_auc_score(test_target_data, neural_network_proba)\n",
        ")"
      ]
    },
    {
      "cell_type": "code",
      "execution_count": 43,
      "metadata": {
        "id": "B5TD7AoSjJIv",
        "colab": {
          "base_uri": "https://localhost:8080/",
          "height": 487
        },
        "outputId": "6b46f949-5645-4b5d-af2f-d593868889b8"
      },
      "outputs": [
        {
          "output_type": "display_data",
          "data": {
            "text/plain": [
              "<Figure size 500x500 with 1 Axes>"
            ],
            "image/png": "[encoded data removed]"
          },
          "metadata": {}
        }
      ],
      "source": [
        "plot_ROC(FPR, TPR, threshold, 'ROC [neural network model]')"
      ]
    },
    {
      "cell_type": "code",
      "execution_count": 44,
      "metadata": {
        "id": "qHJl94hgc93d",
        "colab": {
          "base_uri": "https://localhost:8080/",
          "height": 465
        },
        "outputId": "0f06802b-181a-49b1-9693-ad4daf70ca9b"
      },
      "outputs": [
        {
          "output_type": "display_data",
          "data": {
            "text/plain": [
              "<Figure size 500x500 with 1 Axes>"
            ],
            "image/png": "[encoded data removed]"
          },
          "metadata": {}
        }
      ],
      "source": [
        "# создаём график\n",
        "plt.figure(figsize=(5, 5))\n",
        "\n",
        "# строим кривые\n",
        "FPR, TPR, _ = roc_curve(test_target_data, logistic_regression_proba)\n",
        "plt.plot(FPR, TPR, label='Логистическая регрессия')\n",
        "\n",
        "FPR, TPR, _ = roc_curve(test_target_data, random_forest_proba)\n",
        "plt.plot(FPR, TPR, label='Случайные лес')\n",
        "\n",
        "FPR, TPR, _ = roc_curve(test_target_data, neural_network_proba)\n",
        "plt.plot(FPR, TPR, label='Нейронная сеть')\n",
        "\n",
        "# кривая, соответствующая случайному угадыванию\n",
        "plt.plot([0, 1], [0, 1], color='k', lw=2, linestyle=':',\n",
        "         label='Модель, выдающая случайное значение')\n",
        "\n",
        "#plt.title()\n",
        "plt.xlabel('False Positive Rate')\n",
        "plt.ylabel('True Positive Rate')\n",
        "\n",
        "plt.legend()\n",
        "plt.show()"
      ]
    },
    {
      "cell_type": "markdown",
      "source": [
        "Вычислим **точность**, **полноту** и **F1-меру** для каждой модели.\n",
        "\n",
        "Для этого объявим следующую функцию."
      ],
      "metadata": {
        "id": "VccyF72mGnlA"
      }
    },
    {
      "cell_type": "code",
      "source": [
        "def evaluate_all(test_target_data, predictions):\n",
        "  conf_matrix = confusion_matrix(test_target_data, predictions)\n",
        "\n",
        "  TN, FP = conf_matrix[0, 0], conf_matrix[0, 1]\n",
        "  FN, TP = conf_matrix[1, 0], conf_matrix[1, 1]\n",
        "\n",
        "  # Точность\n",
        "  precision = TP / (TP + FP)\n",
        "  print(\"Точность: %.2f%%\" % (100 * precision))\n",
        "\n",
        "  # Полнота\n",
        "  recall = TP / (TP + FN)\n",
        "  print(\"Полнота:  %.2f%%\" % (100 * recall))\n",
        "\n",
        "  # F1-мера\n",
        "  F1_score = 2 * precision * recall / (precision + recall)\n",
        "  print(\"F1-мера:\", F1_score)"
      ],
      "metadata": {
        "id": "7u-ITAoPGlkF"
      },
      "execution_count": 45,
      "outputs": []
    },
    {
      "cell_type": "markdown",
      "source": [
        "Теперь выозовем эту функцию, передав туда предсказанные значения каждой модели. Начнём с логистической регрессии."
      ],
      "metadata": {
        "id": "8XqeKDGhJoU8"
      }
    },
    {
      "cell_type": "code",
      "source": [
        "print('Оценка модели логистической регрессии:')\n",
        "\n",
        "evaluate_all(test_target_data, logistic_regression_prediction)"
      ],
      "metadata": {
        "colab": {
          "base_uri": "https://localhost:8080/"
        },
        "id": "Anw1vtgDJoEl",
        "outputId": "de4d2dfc-62ba-4c85-9865-8007ce99ce62"
      },
      "execution_count": 46,
      "outputs": [
        {
          "output_type": "stream",
          "name": "stdout",
          "text": [
            "Оценка модели логистической регрессии:\n",
            "Точность: 52.63%\n",
            "Полнота:  1.50%\n",
            "F1-мера: 0.029090909090909094\n"
          ]
        }
      ]
    },
    {
      "cell_type": "code",
      "source": [
        "print('Оценка модели случайного леса:')\n",
        "\n",
        "evaluate_all(test_target_data, random_forest_prediction)"
      ],
      "metadata": {
        "colab": {
          "base_uri": "https://localhost:8080/"
        },
        "id": "Up3guMxSKYpq",
        "outputId": "f658aeec-f576-4d0f-c0be-a5b241b3cde6"
      },
      "execution_count": 47,
      "outputs": [
        {
          "output_type": "stream",
          "name": "stdout",
          "text": [
            "Оценка модели случайного леса:\n",
            "Точность: 95.38%\n",
            "Полнота:  83.47%\n",
            "F1-мера: 0.8903071400079776\n"
          ]
        }
      ]
    },
    {
      "cell_type": "code",
      "source": [
        "print('Оценка модели нейронной сети:')\n",
        "\n",
        "evaluate_all(test_target_data, neural_network_prediction)"
      ],
      "metadata": {
        "colab": {
          "base_uri": "https://localhost:8080/"
        },
        "id": "mVU-PA0WKaBS",
        "outputId": "38c502b5-2d2a-423d-9e8d-99bd6ff1265f"
      },
      "execution_count": 48,
      "outputs": [
        {
          "output_type": "stream",
          "name": "stdout",
          "text": [
            "Оценка модели нейронной сети:\n",
            "Точность: 48.45%\n",
            "Полнота:  30.37%\n",
            "F1-мера: 0.37333333333333335\n"
          ]
        }
      ]
    }
  ],
  "metadata": {
    "colab": {
      "provenance": [],
      "toc_visible": true,
      "include_colab_link": true
    },
    "kernelspec": {
      "display_name": "Python 3",
      "name": "python3"
    },
    "language_info": {
      "name": "python"
    }
  },
  "nbformat": 4,
  "nbformat_minor": 0
}